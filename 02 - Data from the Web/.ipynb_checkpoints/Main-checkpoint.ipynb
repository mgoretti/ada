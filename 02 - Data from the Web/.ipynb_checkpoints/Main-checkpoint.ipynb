{
 "cells": [
  {
   "cell_type": "code",
   "execution_count": 306,
   "metadata": {
    "collapsed": false
   },
   "outputs": [],
   "source": [
    "import pandas as pd\n",
    "import numpy as np\n",
    "import urllib.request\n",
    "from bs4 import BeautifulSoup\n",
    "import re\n",
    "from itertools import * \n",
    "import concurrent.futures\n",
    "from functools import reduce\n",
    "\n",
    "import scipy.stats as stats\n",
    "import statsmodels.api as sm"
   ]
  },
  {
   "cell_type": "markdown",
   "metadata": {},
   "source": [
    "## Data Crawler:\n"
   ]
  },
  {
   "cell_type": "code",
   "execution_count": 307,
   "metadata": {
    "collapsed": false
   },
   "outputs": [],
   "source": [
    "html_doc = urllib.request.urlopen(\"http://isa.epfl.ch/imoniteur_ISAP/!GEDPUBLICREPORTS.filter?ww_b_list=1&ww_i_reportmodel=133685247&ww_c_langue=&ww_i_reportModelXsl=133685270&zz_x_UNITE_ACAD=&ww_x_UNITE_ACAD=942293&zz_x_PERIODE_ACAD=&ww_x_PERIODE_ACAD=355925344&zz_x_PERIODE_PEDAGO=&ww_x_PERIODE_PEDAGO=942155&zz_x_HIVERETE=&ww_x_HIVERETE=2936286&dummy=ok\").read()\n",
    "soup = BeautifulSoup(html_doc, 'html.parser')"
   ]
  },
  {
   "cell_type": "code",
   "execution_count": 308,
   "metadata": {
    "collapsed": false
   },
   "outputs": [],
   "source": [
    "OFFSET_STATUS = 7\n",
    "\n",
    "# transform the iterable in none if it's empty\n",
    "def peek(iterable):\n",
    "    try:\n",
    "        first = next(iterable)\n",
    "    except StopIteration:\n",
    "        return None\n",
    "    return chain([first], iterable)\n",
    "\n",
    "# return the request url for the given parameters\n",
    "def buildRequest(params):\n",
    "    requestParams = ''\n",
    "    for key in params:\n",
    "        requestParams += key + '=' + str(params[key]) + '&'\n",
    "    return \"http://isa.epfl.ch/imoniteur_ISAP/!GEDPUBLICREPORTS.html?\" + requestParams\n",
    "\n",
    "\n",
    "def parsePeriod(period):\n",
    "    if \"Bachelor semestre\" in period:\n",
    "        return ('Bachelor', period[len('Bachelor semestre '):])\n",
    "    if \"Master semestre\" in period:\n",
    "        return ('Master', period[len('Master semestre '):])\n",
    "    if \"Projet Master\" in period:\n",
    "        return ('Master Project', 'PM')\n",
    "\n",
    "    return 'ToDo'\n",
    "    # TODO: add support for master thesis and others\n",
    "    \n",
    "def getSemester(semester):\n",
    "    if semester == \"Semestre d'automne\":\n",
    "        return 0\n",
    "    else:\n",
    "        return 1\n",
    "    \n",
    "def parseTitle(e):\n",
    "    return [(x.contents[0], i) for i,x in enumerate(e.findChildren())] \n",
    "\n",
    "def parseResult(html):\n",
    "    def genPersonDf(person, title):\n",
    "        personDict = parsePerson(person, title)\n",
    "        if personDict is None:\n",
    "            return pd.DataFrame()\n",
    "        return pd.DataFrame(personDict, index=[personDict['No Sciper']])\n",
    "        \n",
    "    def parsePerson(person, title):\n",
    "        def getContent(e):\n",
    "            content = e.contents\n",
    "            if len(content) > 0:\n",
    "                return content[0]\n",
    "            else:\n",
    "                return ''\n",
    "            \n",
    "            \n",
    "        elems = person.findChildren()\n",
    "        if (len(elems) < 12\n",
    "        or \"<th>Civilité</th>\" in str(elems) # for when we have several tables because of Tous\n",
    "        or \"<td\" in str(elems[OFFSET_STATUS].next)): # for Randriamparany Tahina Mikaela....\n",
    "            return None\n",
    "        return {x[0]: getContent(elems[x[1]])  for x in title}\n",
    "#         return {\n",
    "#             'gender': elems[OFFSET_GENDER].contents,\n",
    "#             'name': elems[OFFSET_NAME].contents,\n",
    "#             'status': elems[OFFSET_STATUS].contents,\n",
    "#             'sciper': elems[OFFSET_SCIPER].contents,\n",
    "#         }\n",
    "    soup = BeautifulSoup(html, 'html.parser')\n",
    "    \n",
    "    persons = soup.findAll('tr')[1:]\n",
    "    if len(persons) > 0:\n",
    "        title = parseTitle(persons[0])\n",
    "        it = (genPersonDf(person, title) for person in persons[1:])\n",
    "        it = peek(it)\n",
    "        if it is None:\n",
    "            return pd.DataFrame()\n",
    "        else:\n",
    "            return pd.concat(it)\n",
    "    else:\n",
    "        return pd.DataFrame()\n",
    "\n",
    "\n",
    "\n",
    "def genDF(params):\n",
    "    request = buildRequest({\n",
    "                                'ww_x_GPS': ww_x_GPS,\n",
    "                                'ww_i_reportModel': ww_i_reportModel,\n",
    "                                'ww_i_reportModelXsl': ww_i_reportModelXsl,\n",
    "                                'ww_x_PERIODE_ACAD': params[1]['value'],\n",
    "                                'ww_x_UNITE_ACAD': params[2]['value'],\n",
    "                                'ww_x_PERIODE_PEDAGO': params[0]['value'],\n",
    "                                'ww_x_HIVERETE': params[3]['value']\n",
    "                             })\n",
    "    with urllib.request.urlopen(request) as c:\n",
    "        html = c.read()\n",
    "        df = parseResult(html)\n",
    "        df['year'] = params[1].next\n",
    "        df['section'] = params[2].next\n",
    "        period = parsePeriod(params[0].next)\n",
    "        df['period'] = getSemester(params[3].next)\n",
    "        df['level'] = period[0]\n",
    "        df['semester'] = period[1]\n",
    "        return df\n",
    "\n",
    "# select all?\n",
    "ww_x_GPS=-1\n",
    "\n",
    "ww_i_reportModel =  soup.findAll(\"input\", {\"name\": \"ww_i_reportmodel\"})[0]['value']\n",
    "\n",
    "ww_i_reportModelXsl =  soup.findAll(\"input\", {\"name\": \"ww_i_reportModelXsl\"})[0]['value'] # select the first value as it is the html report\n",
    "\n",
    "# remove the null by doing removing the first element\n",
    "ww_x_UNITE_ACADs =  soup.findAll(\"select\", {\"name\": \"ww_x_UNITE_ACAD\"})[0].findChildren()[1:] \n",
    "ww_x_PERIODE_ACADs =  soup.findAll(\"select\", {\"name\": \"ww_x_PERIODE_ACAD\"})[0].findChildren()[1:]\n",
    "ww_x_PERIODE_PEDAGOs = soup.findAll(\"select\", {\"name\": \"ww_x_PERIODE_PEDAGO\"})[0].findChildren()[1:]\n",
    "ww_x_HIVERETEs = soup.findAll(\"select\", {\"name\": \"ww_x_HIVERETE\"})[0].findChildren()[1:]\n",
    "\n",
    "# ww_x_PERIODE_ACAD = ww_x_PERIODE_ACADs[0]\n",
    "# ww_x_UNITE_ACAD = ww_x_UNITE_ACADs[0]\n",
    "# ww_x_PERIODE_PEDAGO = ww_x_PERIODE_PEDAGOs[0]\n",
    "# ww_x_HIVERETE = ww_x_HIVERETEs[0]\n",
    "\n",
    "itBachelor = product(\n",
    "            filter(lambda x: \"Bachelor\" in x.next, ww_x_PERIODE_PEDAGOs),\n",
    "#             filter(lambda x: \"2015-2016\" in x.next, ww_x_PERIODE_ACADs),\n",
    "            ww_x_PERIODE_ACADs,\n",
    "             filter(lambda x: \"Informatique\" in x.next, ww_x_UNITE_ACADs),\n",
    "#              ww_x_UNITE_ACADs,\n",
    "             ww_x_HIVERETEs\n",
    "           )\n",
    "\n",
    "itMaster = product(\n",
    "            filter(lambda x: \"Master\" in x.next or \"Project\" in x.next, ww_x_PERIODE_PEDAGOs),\n",
    "#             filter(lambda x: \"2015-2016\" in x.next, ww_x_PERIODE_ACADs),\n",
    "            ww_x_PERIODE_ACADs,\n",
    "             filter(lambda x: \"Informatique\" in x.next, ww_x_UNITE_ACADs),\n",
    "#              ww_x_UNITE_ACADs,\n",
    "             ww_x_HIVERETEs\n",
    "           )\n",
    "# for (x, y, z, a) in it:\n",
    "#     print(x, y, z, a)\n",
    "             \n",
    "# df = pd.concat(list(map(genDF, it)))\n",
    "\n",
    "# #We can use a with statement to ensure threads are cleaned up promptly\n",
    "with concurrent.futures.ThreadPoolExecutor(max_workers=50) as executor:\n",
    "    # Start the load operations and mark each future with its URL\n",
    "    future_to_url = {executor.submit(genDF, params): params for params in itBachelor}\n",
    "    dfB = pd.concat(future.result() for future in concurrent.futures.as_completed(future_to_url))\n",
    "\n",
    "with concurrent.futures.ThreadPoolExecutor(max_workers=50) as executor:\n",
    "    # Start the load operations and mark each future with its URL\n",
    "    future_to_url = {executor.submit(genDF, params): params for params in itMaster}\n",
    "    dfM = pd.concat(future.result() for future in concurrent.futures.as_completed(future_to_url))\n",
    "\n",
    "#     for future in concurrent.futures.as_completed(future_to_url):\n",
    "#         url = future_to_url[future]\n",
    "#         print(future.result())\n",
    "#         try:\n",
    "#             data = future.result()\n",
    "#         except Exception as exc:\n",
    "#             print('%r generated an exception: %s' % (url, exc))\n",
    "#         else:\n",
    "#             print('%r page is %d bytes' % (url, len(data)))"
   ]
  },
  {
   "cell_type": "code",
   "execution_count": 309,
   "metadata": {
    "collapsed": false
   },
   "outputs": [
    {
     "name": "stdout",
     "output_type": "stream",
     "text": [
      "Présent    5502\n",
      "Congé       296\n",
      "Attente       9\n",
      "Name: Statut, dtype: int64\n",
      "Présent    2485\n",
      "Stage       282\n",
      "Congé        77\n",
      "Name: Statut, dtype: int64\n"
     ]
    }
   ],
   "source": [
    "print(dfB['Statut'].value_counts())\n",
    "print(dfM['Statut'].value_counts())"
   ]
  },
  {
   "cell_type": "markdown",
   "metadata": {},
   "source": [
    "# Bachelor students analysis:\n",
    "## Goals:\n",
    "Here we show how long master students took to complete their bachelor per sex and if there are significant statistical  difference\n",
    "## Assumptions:\n",
    "We consider a student that has reached the 6th semester to have finished his bachelor but we compute the correct time. Indeed we compute the duration by ordering the rows by year and period. Then we find the duration using the first and last row. \n",
    "\n"
   ]
  },
  {
   "cell_type": "code",
   "execution_count": 310,
   "metadata": {
    "collapsed": false
   },
   "outputs": [
    {
     "name": "stdout",
     "output_type": "stream",
     "text": [
      "Average duration per sex           duration\n",
      "sex               \n",
      "Madame    3.396552\n",
      "Monsieur  3.573370\n",
      "Average difference duration    0.176818\n",
      "dtype: float64\n"
     ]
    }
   ],
   "source": [
    "def removeIncomplete(person):\n",
    "    did1 = reduce(lambda x,y: x or y, person.semester == '1', False)\n",
    "    did6 = reduce(lambda x,y: x or y, person.semester == '6', False)\n",
    "    return did1 and did6\n",
    "\n",
    "def bachelorDuration(person):\n",
    "    sample = person.iloc(0)[0]\n",
    "    sorted = person.sort_values(by=['year', 'period'])\n",
    "    startYear = sorted.iloc[0]['year']\n",
    "    startPeriod = sorted.iloc[0]['period']\n",
    "\n",
    "    endYear = sorted.iloc[-1]['year']\n",
    "    endPeriod = sorted.iloc[-1]['period']\n",
    "    \n",
    "    duration = 0.5 + float(endYear[:4]) - float(startYear[:4]) + (float(endPeriod) - float(startPeriod))/2\n",
    "    return pd.Series({'sex': sample['Civilité'], 'duration': duration})\n",
    "\n",
    "#Remove the students that have not finished their bachelors\n",
    "dfBCompleted = dfB.groupby(dfB.index).filter(removeIncomplete)\n",
    "\n",
    "#Get duration of bachelor per student\n",
    "s = dfBCompleted.groupby(dfBCompleted.index).apply(bachelorDuration)\n",
    "\n",
    "mean = s.groupby('sex').mean()\n",
    "print(\"Average duration per sex {}\".format(mean))\n",
    "print(\"Average difference {}\".format(mean.iloc(0)[1] - mean.iloc(0)[0]))\n"
   ]
  },
  {
   "cell_type": "markdown",
   "metadata": {},
   "source": [
    "## Statistical Significance Test  "
   ]
  },
  {
   "cell_type": "code",
   "execution_count": 311,
   "metadata": {
    "collapsed": false
   },
   "outputs": [
    {
     "name": "stdout",
     "output_type": "stream",
     "text": [
      "t stat: 1.34370056781\n",
      "degrees of freedom: 28\n",
      "the p-value is: 0.189833792999\n"
     ]
    }
   ],
   "source": [
    "se2 = s.groupby('sex').var()/s.groupby('sex').count()\n",
    "\n",
    "t = (mean['duration'][1] - mean['duration'][0]) / np.sqrt(se2['duration'][0] + se2['duration'][1])\n",
    "df = s.groupby('sex').count().min()[0] - 1\n",
    "print('t stat: ' + str(t))\n",
    "print('degrees of freedom: ' + str(df))\n",
    "\n",
    "p = (1-stats.t.cdf(t, df))*2\n",
    "print('the p-value is: ' + str(p))"
   ]
  },
  {
   "cell_type": "markdown",
   "metadata": {},
   "source": [
    "We can't reject H0 (the 2 means are equal), => we don't observe any significant difference"
   ]
  },
  {
   "cell_type": "code",
   "execution_count": 312,
   "metadata": {
    "collapsed": false
   },
   "outputs": [
    {
     "data": {
      "text/plain": [
       "Ttest_indResult(statistic=1.3437005678090845, pvalue=0.18785555340784144)"
      ]
     },
     "execution_count": 312,
     "metadata": {},
     "output_type": "execute_result"
    }
   ],
   "source": [
    "M = s[s.sex == 'Monsieur']\n",
    "F = s[s.sex != 'Monsieur']\n",
    "\n",
    "stats.ttest_ind(M['duration'], F['duration'], equal_var=False)"
   ]
  },
  {
   "cell_type": "markdown",
   "metadata": {},
   "source": [
    "Here we get a small difference in p-value because the test is using the Welch-Satterthwaite degrees of freedom."
   ]
  },
  {
   "cell_type": "code",
   "execution_count": 313,
   "metadata": {
    "collapsed": false
   },
   "outputs": [
    {
     "data": {
      "text/plain": [
       "\"\\ndfB[dfB.index =='160213'].sort_values(by=['year', 'period'])\\ns = dfB[(dfB.index == '217422') | (dfB.index == '213618')]\\n\\na = s.groupby(s.index).apply(bachelorDuration)\\na\\n\""
      ]
     },
     "execution_count": 313,
     "metadata": {},
     "output_type": "execute_result"
    }
   ],
   "source": [
    "'''\n",
    "dfB[dfB.index =='160213'].sort_values(by=['year', 'period'])\n",
    "s = dfB[(dfB.index == '217422') | (dfB.index == '213618')]\n",
    "\n",
    "a = s.groupby(s.index).apply(bachelorDuration)\n",
    "a\n",
    "'''"
   ]
  },
  {
   "cell_type": "code",
   "execution_count": 314,
   "metadata": {
    "collapsed": false
   },
   "outputs": [
    {
     "data": {
      "text/plain": [
       "0.18780024218122726"
      ]
     },
     "execution_count": 314,
     "metadata": {},
     "output_type": "execute_result"
    }
   ],
   "source": [
    "pop1 = M['duration']\n",
    "pop2 = F['duration']\n",
    "num1 = pop1.count()\n",
    "num2 = pop2.count()\n",
    "df = ((np.var(pop1)/num1 + np.var(pop2)/num2)**(2.0))/(   (np.var(pop1)/num1)**(2.0)/(num1-1) +  (np.var(pop2)/num2)**(2.0)/(num2-1) ) \n",
    "(1-stats.t.cdf(t, df))*2"
   ]
  },
  {
   "cell_type": "code",
   "execution_count": 315,
   "metadata": {
    "collapsed": false
   },
   "outputs": [
    {
     "data": {
      "text/html": [
       "<table class=\"simpletable\">\n",
       "<caption>OLS Regression Results</caption>\n",
       "<tr>\n",
       "  <th>Dep. Variable:</th>        <td>duration</td>     <th>  R-squared:         </th> <td>   0.003</td>\n",
       "</tr>\n",
       "<tr>\n",
       "  <th>Model:</th>                   <td>OLS</td>       <th>  Adj. R-squared:    </th> <td>   0.001</td>\n",
       "</tr>\n",
       "<tr>\n",
       "  <th>Method:</th>             <td>Least Squares</td>  <th>  F-statistic:       </th> <td>   1.749</td>\n",
       "</tr>\n",
       "<tr>\n",
       "  <th>Date:</th>             <td>Sat, 15 Oct 2016</td> <th>  Prob (F-statistic):</th>  <td> 0.187</td> \n",
       "</tr>\n",
       "<tr>\n",
       "  <th>Time:</th>                 <td>21:13:50</td>     <th>  Log-Likelihood:    </th> <td> -464.00</td>\n",
       "</tr>\n",
       "<tr>\n",
       "  <th>No. Observations:</th>      <td>   397</td>      <th>  AIC:               </th> <td>   932.0</td>\n",
       "</tr>\n",
       "<tr>\n",
       "  <th>Df Residuals:</th>          <td>   395</td>      <th>  BIC:               </th> <td>   940.0</td>\n",
       "</tr>\n",
       "<tr>\n",
       "  <th>Df Model:</th>              <td>     1</td>      <th>                     </th>     <td> </td>   \n",
       "</tr>\n",
       "<tr>\n",
       "  <th>Covariance Type:</th>         <td>HC3</td>       <th>                     </th>     <td> </td>   \n",
       "</tr>\n",
       "</table>\n",
       "<table class=\"simpletable\">\n",
       "<tr>\n",
       "    <td></td>       <th>coef</th>     <th>std err</th>      <th>z</th>      <th>P>|z|</th> <th>[95.0% Conf. Int.]</th> \n",
       "</tr>\n",
       "<tr>\n",
       "  <th>const</th> <td>    3.3966</td> <td>    0.127</td> <td>   26.698</td> <td> 0.000</td> <td>    3.147     3.646</td>\n",
       "</tr>\n",
       "<tr>\n",
       "  <th>sex</th>   <td>    0.1768</td> <td>    0.134</td> <td>    1.322</td> <td> 0.186</td> <td>   -0.085     0.439</td>\n",
       "</tr>\n",
       "</table>\n",
       "<table class=\"simpletable\">\n",
       "<tr>\n",
       "  <th>Omnibus:</th>       <td>92.931</td> <th>  Durbin-Watson:     </th> <td>   1.823</td>\n",
       "</tr>\n",
       "<tr>\n",
       "  <th>Prob(Omnibus):</th> <td> 0.000</td> <th>  Jarque-Bera (JB):  </th> <td> 159.029</td>\n",
       "</tr>\n",
       "<tr>\n",
       "  <th>Skew:</th>          <td> 1.385</td> <th>  Prob(JB):          </th> <td>2.93e-35</td>\n",
       "</tr>\n",
       "<tr>\n",
       "  <th>Kurtosis:</th>      <td> 4.392</td> <th>  Cond. No.          </th> <td>    7.27</td>\n",
       "</tr>\n",
       "</table>"
      ],
      "text/plain": [
       "<class 'statsmodels.iolib.summary.Summary'>\n",
       "\"\"\"\n",
       "                            OLS Regression Results                            \n",
       "==============================================================================\n",
       "Dep. Variable:               duration   R-squared:                       0.003\n",
       "Model:                            OLS   Adj. R-squared:                  0.001\n",
       "Method:                 Least Squares   F-statistic:                     1.749\n",
       "Date:                Sat, 15 Oct 2016   Prob (F-statistic):              0.187\n",
       "Time:                        21:13:50   Log-Likelihood:                -464.00\n",
       "No. Observations:                 397   AIC:                             932.0\n",
       "Df Residuals:                     395   BIC:                             940.0\n",
       "Df Model:                           1                                         \n",
       "Covariance Type:                  HC3                                         \n",
       "==============================================================================\n",
       "                 coef    std err          z      P>|z|      [95.0% Conf. Int.]\n",
       "------------------------------------------------------------------------------\n",
       "const          3.3966      0.127     26.698      0.000         3.147     3.646\n",
       "sex            0.1768      0.134      1.322      0.186        -0.085     0.439\n",
       "==============================================================================\n",
       "Omnibus:                       92.931   Durbin-Watson:                   1.823\n",
       "Prob(Omnibus):                  0.000   Jarque-Bera (JB):              159.029\n",
       "Skew:                           1.385   Prob(JB):                     2.93e-35\n",
       "Kurtosis:                       4.392   Cond. No.                         7.27\n",
       "==============================================================================\n",
       "\n",
       "Warnings:\n",
       "[1] Standard Errors are heteroscedasticity robust (HC3)\n",
       "\"\"\""
      ]
     },
     "execution_count": 315,
     "metadata": {},
     "output_type": "execute_result"
    }
   ],
   "source": [
    "s2 = s\n",
    "a = pd.Categorical.from_array(s2['sex'])\n",
    "s2['sex'] = a.codes\n",
    "\n",
    "sm.OLS(s2['duration'], sm.add_constant(s2['sex'])).fit(cov_type='HC3').summary()"
   ]
  },
  {
   "cell_type": "markdown",
   "metadata": {},
   "source": [
    "The coefficient of the sex dummy is non-significant <br>\n",
    "We see that the average is 3.4 years for females (the sex dummy is encoded to 0) and 3.57 for males"
   ]
  },
  {
   "cell_type": "markdown",
   "metadata": {},
   "source": [
    "# Master students analysis:\n",
    "## Goals:\n",
    "Here we show how long master students took to complete their master and if there are significant statistical  difference between sex and specialization\n",
    "## Assumptions:\n",
    "Since the data on the master project is incomplete, we didn't take it into account. In fact we had examples of people who should be on the list which were not. There for our results don't take into account the PDM. <br >\n",
    "The stage is typically not done at EPFL so it's not useful here.\n",
    "We also removed all rows where students were not present at EPFL. <br>\n",
    "To figure out if someone finished their master, we check if they did two semesters and no spe/minor or if they did three semesters and a spe/minor <br >\n",
    "We then count the time in years by using the last and first rows ordered by year and period (which work because we only kept \"Présent\" rows)\n",
    "\n"
   ]
  },
  {
   "cell_type": "code",
   "execution_count": 316,
   "metadata": {
    "collapsed": false
   },
   "outputs": [
    {
     "name": "stdout",
     "output_type": "stream",
     "text": [
      "Average finish time in year : 1.62015503875969\n",
      "Average finish time in year per sex :           duration\n",
      "sex               \n",
      "Madame     1.62500\n",
      "Monsieur   1.61942\n",
      "Average finish time in year per spe :                                 duration\n",
      "spe                                     \n",
      "                                1.616848\n",
      "Biocomputing                    1.136364\n",
      "Computer Engineering - SP       1.875000\n",
      "Data Analytics                  1.500000\n",
      "Foundations of Software         1.718750\n",
      "Information Security - SP       2.500000\n",
      "Internet computing              1.575000\n",
      "Service science                 1.750000\n",
      "Signals, Images and Interfaces  1.608696\n",
      "Software Systems                1.928571\n",
      "Number of registered student per spe :                                 duration  sex\n",
      "spe                                          \n",
      "                                     368  368\n",
      "Biocomputing                          11   11\n",
      "Computer Engineering - SP              8    8\n",
      "Data Analytics                         1    1\n",
      "Foundations of Software               32   32\n",
      "Information Security - SP              2    2\n",
      "Internet computing                    60   60\n",
      "Service science                        4    4\n",
      "Signals, Images and Interfaces        23   23\n",
      "Software Systems                       7    7\n"
     ]
    }
   ],
   "source": [
    "# Get all students who finished their master\n",
    "def removeIncompleteMaster(person):\n",
    "    did3 = reduce(lambda x,y: x or y, person.semester == '3', False)\n",
    "    didspe = reduce(lambda x,y: x or y, person.spe != '', False)\n",
    "    didminor = reduce(lambda x,y: x or y, person.Mineur != '', False)\n",
    "    did2 = reduce(lambda x,y: x or y, person.semester == '3', False)\n",
    "\n",
    "    return (did3 and (didspe or didminor)) or (did2 and ~didspe and ~didminor)\n",
    "\n",
    "def masterDuration(person):\n",
    "    sample = person.iloc(0)[0]\n",
    "    sorted = person.sort_values(by=['year', 'period'])\n",
    "    startYear = sorted.iloc[0]['year']\n",
    "    startPeriod = sorted.iloc[0]['period']\n",
    "\n",
    "    endYear = sorted.iloc[-1]['year']\n",
    "    endPeriod = sorted.iloc[-1]['period']\n",
    "    \n",
    "    duration = 0.5 + float(endYear[:4]) - float(startYear[:4]) + (float(endPeriod) - float(startPeriod))/2.0\n",
    "    \n",
    "    return pd.Series({'sex': sample['Civilité'], 'spe': sample['spe'], 'duration': duration})\n",
    "\n",
    "\n",
    "#Rename column for handiness\n",
    "dfMP = dfM.rename(columns = {'Spécialisation':'spe'})\n",
    "\n",
    "#Only keep present rows\n",
    "dfMP = dfMP[dfMP.Statut == \"Présent\"]\n",
    "\n",
    "#TODO Propagate specialitazion\n",
    "\n",
    "#Get finished master\n",
    "dfMFinished = pd.DataFrame(dfMP.groupby(dfMP.index).filter(removeIncompleteMaster))\n",
    "\n",
    "#Get duration for each student\n",
    "dfMFinishedDuration =  dfMFinished.groupby(dfMFinished.index).apply(masterDuration)\n",
    "\n",
    "#Sex\n",
    "print (\"Average finish time in year : {}\".format(dfMFinishedDuration.mean()[0] ))\n",
    "print (\"Average finish time in year per sex : {}\".format(dfMFinishedDuration.groupby('sex').mean() ))\n",
    "\n",
    "#Spe\n",
    "print (\"Average finish time in year per spe : {}\".format(dfMFinishedDuration.groupby('spe').mean() ))\n",
    "print (\"Number of registered student per spe : {}\".format(dfMFinishedDuration.groupby('spe').count() ))\n"
   ]
  },
  {
   "cell_type": "markdown",
   "metadata": {},
   "source": [
    "## Statistical Significance Test  "
   ]
  },
  {
   "cell_type": "code",
   "execution_count": 317,
   "metadata": {
    "collapsed": true
   },
   "outputs": [],
   "source": [
    "#TODO"
   ]
  }
 ],
 "metadata": {
  "anaconda-cloud": {},
  "kernelspec": {
   "display_name": "Python [Root]",
   "language": "python",
   "name": "Python [Root]"
  },
  "language_info": {
   "codemirror_mode": {
    "name": "ipython",
    "version": 3
   },
   "file_extension": ".py",
   "mimetype": "text/x-python",
   "name": "python",
   "nbconvert_exporter": "python",
   "pygments_lexer": "ipython3",
   "version": "3.5.2"
  }
 },
 "nbformat": 4,
 "nbformat_minor": 1
}
