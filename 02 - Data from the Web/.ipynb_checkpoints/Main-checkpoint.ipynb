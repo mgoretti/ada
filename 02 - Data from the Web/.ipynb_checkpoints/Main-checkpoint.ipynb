{
 "cells": [
  {
   "cell_type": "code",
   "execution_count": 207,
   "metadata": {
    "collapsed": false
   },
   "outputs": [],
   "source": [
    "import pandas as pd\n",
    "import urllib.request\n",
    "from bs4 import BeautifulSoup\n",
    "import re\n",
    "from itertools import * \n"
   ]
  },
  {
   "cell_type": "markdown",
   "metadata": {},
   "source": [
    "Extract all request parameters"
   ]
  },
  {
   "cell_type": "code",
   "execution_count": 22,
   "metadata": {
    "collapsed": false
   },
   "outputs": [],
   "source": [
    "html_doc = urllib.request.urlopen(\"http://isaww_i_reportModelXsl.epfl.ch/imoniteur_ISAP/!GEDPUBLICREPORTS.filter?ww_i_reportModel=133685247\").read()\n",
    "soup = BeautifulSoup(html_doc, 'html.parser')"
   ]
  },
  {
   "cell_type": "code",
   "execution_count": 324,
   "metadata": {
    "collapsed": false
   },
   "outputs": [
    {
     "name": "stdout",
     "output_type": "stream",
     "text": [
      "(        gender                       name  sciper   status\n",
      "257858  Madame  Abbé-Decarroux Maud Clara  257858  Présent, <itertools.chain object at 0x121852320>)\n"
     ]
    },
    {
     "ename": "TypeError",
     "evalue": "cannot concatenate a non-NDFrame object",
     "output_type": "error",
     "traceback": [
      "\u001b[0;31m---------------------------------------------------------------------------\u001b[0m",
      "\u001b[0;31mTypeError\u001b[0m                                 Traceback (most recent call last)",
      "\u001b[0;32m<ipython-input-324-c00a3c1af7e3>\u001b[0m in \u001b[0;36m<module>\u001b[0;34m()\u001b[0m\n\u001b[1;32m    100\u001b[0m \u001b[0;31m#     print(x, y, z, a)\u001b[0m\u001b[0;34m\u001b[0m\u001b[0;34m\u001b[0m\u001b[0m\n\u001b[1;32m    101\u001b[0m \u001b[0;34m\u001b[0m\u001b[0m\n\u001b[0;32m--> 102\u001b[0;31m \u001b[0mpd\u001b[0m\u001b[0;34m.\u001b[0m\u001b[0mconcat\u001b[0m\u001b[0;34m(\u001b[0m\u001b[0mlist\u001b[0m\u001b[0;34m(\u001b[0m\u001b[0mmap\u001b[0m\u001b[0;34m(\u001b[0m\u001b[0mgenDF\u001b[0m\u001b[0;34m,\u001b[0m \u001b[0mit\u001b[0m\u001b[0;34m)\u001b[0m\u001b[0;34m)\u001b[0m\u001b[0;34m)\u001b[0m\u001b[0;34m\u001b[0m\u001b[0m\n\u001b[0m\u001b[1;32m    103\u001b[0m \u001b[0;34m\u001b[0m\u001b[0m\n\u001b[1;32m    104\u001b[0m \u001b[0;31m# pd.concat(map(genDF, it))\u001b[0m\u001b[0;34m\u001b[0m\u001b[0;34m\u001b[0m\u001b[0m\n",
      "\u001b[0;32m<ipython-input-324-c00a3c1af7e3>\u001b[0m in \u001b[0;36mgenDF\u001b[0;34m(params)\u001b[0m\n\u001b[1;32m     65\u001b[0m     \u001b[0;32mwith\u001b[0m \u001b[0murllib\u001b[0m\u001b[0;34m.\u001b[0m\u001b[0mrequest\u001b[0m\u001b[0;34m.\u001b[0m\u001b[0murlopen\u001b[0m\u001b[0;34m(\u001b[0m\u001b[0mrequest\u001b[0m\u001b[0;34m)\u001b[0m \u001b[0;32mas\u001b[0m \u001b[0mc\u001b[0m\u001b[0;34m:\u001b[0m\u001b[0;34m\u001b[0m\u001b[0m\n\u001b[1;32m     66\u001b[0m         \u001b[0mhtml\u001b[0m \u001b[0;34m=\u001b[0m \u001b[0mc\u001b[0m\u001b[0;34m.\u001b[0m\u001b[0mread\u001b[0m\u001b[0;34m(\u001b[0m\u001b[0;34m)\u001b[0m\u001b[0;34m\u001b[0m\u001b[0m\n\u001b[0;32m---> 67\u001b[0;31m         \u001b[0mdf\u001b[0m \u001b[0;34m=\u001b[0m \u001b[0mparseResult\u001b[0m\u001b[0;34m(\u001b[0m\u001b[0mhtml\u001b[0m\u001b[0;34m)\u001b[0m\u001b[0;34m\u001b[0m\u001b[0m\n\u001b[0m\u001b[1;32m     68\u001b[0m         \u001b[0mdf\u001b[0m\u001b[0;34m[\u001b[0m\u001b[0;34m'year'\u001b[0m\u001b[0;34m]\u001b[0m \u001b[0;34m=\u001b[0m \u001b[0mparams\u001b[0m\u001b[0;34m[\u001b[0m\u001b[0;36m1\u001b[0m\u001b[0;34m]\u001b[0m\u001b[0;34m.\u001b[0m\u001b[0mnext\u001b[0m\u001b[0;34m\u001b[0m\u001b[0m\n\u001b[1;32m     69\u001b[0m         \u001b[0mdf\u001b[0m\u001b[0;34m[\u001b[0m\u001b[0;34m'section'\u001b[0m\u001b[0;34m]\u001b[0m \u001b[0;34m=\u001b[0m \u001b[0mparams\u001b[0m\u001b[0;34m[\u001b[0m\u001b[0;36m2\u001b[0m\u001b[0;34m]\u001b[0m\u001b[0;34m.\u001b[0m\u001b[0mnext\u001b[0m\u001b[0;34m\u001b[0m\u001b[0m\n",
      "\u001b[0;32m<ipython-input-324-c00a3c1af7e3>\u001b[0m in \u001b[0;36mparseResult\u001b[0;34m(html)\u001b[0m\n\u001b[1;32m     49\u001b[0m         \u001b[0;32mreturn\u001b[0m \u001b[0mpd\u001b[0m\u001b[0;34m.\u001b[0m\u001b[0mDataFrame\u001b[0m\u001b[0;34m(\u001b[0m\u001b[0;34m)\u001b[0m\u001b[0;34m\u001b[0m\u001b[0m\n\u001b[1;32m     50\u001b[0m     \u001b[0;32melse\u001b[0m\u001b[0;34m:\u001b[0m\u001b[0;34m\u001b[0m\u001b[0m\n\u001b[0;32m---> 51\u001b[0;31m         \u001b[0;32mreturn\u001b[0m \u001b[0mpd\u001b[0m\u001b[0;34m.\u001b[0m\u001b[0mconcat\u001b[0m\u001b[0;34m(\u001b[0m\u001b[0mit\u001b[0m\u001b[0;34m)\u001b[0m\u001b[0;34m\u001b[0m\u001b[0m\n\u001b[0m\u001b[1;32m     52\u001b[0m \u001b[0;34m\u001b[0m\u001b[0m\n\u001b[1;32m     53\u001b[0m \u001b[0;34m\u001b[0m\u001b[0m\n",
      "\u001b[0;32m/Users/Marco/anaconda/lib/python3.5/site-packages/pandas/tools/merge.py\u001b[0m in \u001b[0;36mconcat\u001b[0;34m(objs, axis, join, join_axes, ignore_index, keys, levels, names, verify_integrity, copy)\u001b[0m\n\u001b[1;32m    843\u001b[0m                        \u001b[0mkeys\u001b[0m\u001b[0;34m=\u001b[0m\u001b[0mkeys\u001b[0m\u001b[0;34m,\u001b[0m \u001b[0mlevels\u001b[0m\u001b[0;34m=\u001b[0m\u001b[0mlevels\u001b[0m\u001b[0;34m,\u001b[0m \u001b[0mnames\u001b[0m\u001b[0;34m=\u001b[0m\u001b[0mnames\u001b[0m\u001b[0;34m,\u001b[0m\u001b[0;34m\u001b[0m\u001b[0m\n\u001b[1;32m    844\u001b[0m                        \u001b[0mverify_integrity\u001b[0m\u001b[0;34m=\u001b[0m\u001b[0mverify_integrity\u001b[0m\u001b[0;34m,\u001b[0m\u001b[0;34m\u001b[0m\u001b[0m\n\u001b[0;32m--> 845\u001b[0;31m                        copy=copy)\n\u001b[0m\u001b[1;32m    846\u001b[0m     \u001b[0;32mreturn\u001b[0m \u001b[0mop\u001b[0m\u001b[0;34m.\u001b[0m\u001b[0mget_result\u001b[0m\u001b[0;34m(\u001b[0m\u001b[0;34m)\u001b[0m\u001b[0;34m\u001b[0m\u001b[0m\n\u001b[1;32m    847\u001b[0m \u001b[0;34m\u001b[0m\u001b[0m\n",
      "\u001b[0;32m/Users/Marco/anaconda/lib/python3.5/site-packages/pandas/tools/merge.py\u001b[0m in \u001b[0;36m__init__\u001b[0;34m(self, objs, axis, join, join_axes, keys, levels, names, ignore_index, verify_integrity, copy)\u001b[0m\n\u001b[1;32m    899\u001b[0m         \u001b[0;32mfor\u001b[0m \u001b[0mobj\u001b[0m \u001b[0;32min\u001b[0m \u001b[0mobjs\u001b[0m\u001b[0;34m:\u001b[0m\u001b[0;34m\u001b[0m\u001b[0m\n\u001b[1;32m    900\u001b[0m             \u001b[0;32mif\u001b[0m \u001b[0;32mnot\u001b[0m \u001b[0misinstance\u001b[0m\u001b[0;34m(\u001b[0m\u001b[0mobj\u001b[0m\u001b[0;34m,\u001b[0m \u001b[0mNDFrame\u001b[0m\u001b[0;34m)\u001b[0m\u001b[0;34m:\u001b[0m\u001b[0;34m\u001b[0m\u001b[0m\n\u001b[0;32m--> 901\u001b[0;31m                 \u001b[0;32mraise\u001b[0m \u001b[0mTypeError\u001b[0m\u001b[0;34m(\u001b[0m\u001b[0;34m\"cannot concatenate a non-NDFrame object\"\u001b[0m\u001b[0;34m)\u001b[0m\u001b[0;34m\u001b[0m\u001b[0m\n\u001b[0m\u001b[1;32m    902\u001b[0m \u001b[0;34m\u001b[0m\u001b[0m\n\u001b[1;32m    903\u001b[0m             \u001b[0;31m# consolidate\u001b[0m\u001b[0;34m\u001b[0m\u001b[0;34m\u001b[0m\u001b[0m\n",
      "\u001b[0;31mTypeError\u001b[0m: cannot concatenate a non-NDFrame object"
     ]
    }
   ],
   "source": [
    "OFFSET_GENDER = 0\n",
    "OFFSET_NAME = 1\n",
    "OFFSET_STATUS = 7\n",
    "OFFSET_SCIPER = 10\n",
    "\n",
    "# transform the iterable in none if it's empty\n",
    "def peek(iterable):\n",
    "    try:\n",
    "        first = next(iterable)\n",
    "    except StopIteration:\n",
    "        return None\n",
    "    return chain([first], iterable)\n",
    "\n",
    "# return the request url for the given parameters\n",
    "def buildRequest(params):\n",
    "    requestParams = ''\n",
    "    for key in params:\n",
    "        requestParams += key + '=' + str(params[key]) + '&'\n",
    "    return \"http://isa.epfl.ch/imoniteur_ISAP/!GEDPUBLICREPORTS.html?\" + requestParams\n",
    "\n",
    "\n",
    "def parsePeriod(period):\n",
    "    if \"Bachelor semestre\" in period:\n",
    "        return ('Bachelor', period[len('Bachelor semestre '):])\n",
    "    if \"Master semestre\" in period:\n",
    "        return ('Master', period[len('Master semestre '):])\n",
    "\n",
    "    # TODO: add support for master thesis and others\n",
    "    \n",
    "def parseResult(html):\n",
    "    def genPersonDf(person):\n",
    "        personDict = parsePerson(person)\n",
    "        return pd.DataFrame(personDict, index=[personDict['sciper']])\n",
    "        \n",
    "    def parsePerson(person):\n",
    "        elems = person.findChildren()\n",
    "        return {\n",
    "            'gender': elems[OFFSET_GENDER].next,\n",
    "            'name': elems[OFFSET_NAME].next,\n",
    "            'status': elems[OFFSET_STATUS].next,\n",
    "            'sciper': elems[OFFSET_SCIPER].next,\n",
    "        }\n",
    "    soup = BeautifulSoup(html, 'html.parser')\n",
    "    \n",
    "    it = (genPersonDf(person) for person in soup.findAll('tr')[2:])\n",
    "    it = peek(it)\n",
    "    print(it)\n",
    "    if it is None:\n",
    "        return pd.DataFrame()\n",
    "    else:\n",
    "        return pd.concat(it)\n",
    "\n",
    "\n",
    "\n",
    "def genDF(params):\n",
    "    request = buildRequest({\n",
    "                                'ww_x_GPS': ww_x_GPS,\n",
    "                                'ww_i_reportModel': ww_i_reportModel,\n",
    "                                'ww_i_reportModelXsl': ww_i_reportModelXsl,\n",
    "                                'ww_x_PERIODE_ACAD': params[1]['value'],\n",
    "                                'ww_x_UNITE_ACAD': params[2]['value'],\n",
    "                                'ww_x_PERIODE_PEDAGO': params[0]['value'],\n",
    "                                'ww_x_HIVERETE': params[3]['value']\n",
    "                             })\n",
    "    with urllib.request.urlopen(request) as c:\n",
    "        html = c.read()\n",
    "        df = parseResult(html)\n",
    "        df['year'] = params[1].next\n",
    "        df['section'] = params[2].next\n",
    "        period = parsePeriod(params[0].next)\n",
    "        df['level'] = period[0]\n",
    "        df['semester'] = period[1]\n",
    "        return df\n",
    "\n",
    "# select all?\n",
    "ww_x_GPS=-1\n",
    "\n",
    "ww_i_reportModel =  soup.findAll(\"input\", {\"name\": \"ww_i_reportmodel\"})[0]['value']\n",
    "\n",
    "ww_i_reportModelXsl =  soup.findAll(\"input\", {\"name\": \"ww_i_reportModelXsl\"})[0]['value'] # select the first value as it is the html report\n",
    "\n",
    "# remove the null by doing removing the first element\n",
    "ww_x_UNITE_ACADs =  soup.findAll(\"select\", {\"name\": \"ww_x_UNITE_ACAD\"})[0].findChildren()[1:] \n",
    "ww_x_PERIODE_ACADs =  soup.findAll(\"select\", {\"name\": \"ww_x_PERIODE_ACAD\"})[0].findChildren()[1:]\n",
    "ww_x_PERIODE_PEDAGOs = soup.findAll(\"select\", {\"name\": \"ww_x_PERIODE_PEDAGO\"})[0].findChildren()[1:]\n",
    "ww_x_HIVERETEs = soup.findAll(\"select\", {\"name\": \"ww_x_HIVERETE\"})[0].findChildren()[1:]\n",
    "\n",
    "\n",
    "# ww_x_PERIODE_ACAD = ww_x_PERIODE_ACADs[0]\n",
    "# ww_x_UNITE_ACAD = ww_x_UNITE_ACADs[0]\n",
    "# ww_x_PERIODE_PEDAGO = ww_x_PERIODE_PEDAGOs[0]\n",
    "# ww_x_HIVERETE = ww_x_HIVERETEs[0]\n",
    "\n",
    "it = product(\\\n",
    "            filter(lambda x: \"Bachelor\" in x.next, ww_x_PERIODE_PEDAGOs),\n",
    "            filter(lambda x: x.next == \"2015-2016\", ww_x_PERIODE_ACADs),\n",
    "            filter(lambda x: x.next == \"Architecture\", ww_x_UNITE_ACADs),\n",
    "            ww_x_HIVERETEs\n",
    "           )\n",
    "# for (x, y, z, a) in it:\n",
    "#     print(x, y, z, a)\n",
    "             \n",
    "pd.concat(list(map(genDF, it)))\n",
    "\n",
    "# pd.concat(map(genDF, it))\n",
    "# list(map(genDF, it))\n",
    "\n",
    "\n",
    "# list( (genDF(next(it)), genDF(next(it))) )\n",
    "                \n",
    "# sum(1 for _ in it)\n",
    "\n",
    "# request =  buildRequest({\n",
    "#                 'ww_x_GPS': ww_x_GPS,\n",
    "#                 'ww_i_reportModel': ww_i_reportModel,\n",
    "#                 'ww_i_reportModelXsl': ww_i_reportModelXsl,\n",
    "#                 'ww_x_PERIODE_ACAD': ww_x_PERIODE_ACAD['value'],\n",
    "#                 'ww_x_UNITE_ACAD': ww_x_UNITE_ACAD['value'],\n",
    "#                 'ww_x_PERIODE_PEDAGO': ww_x_PERIODE_PEDAGO['value'],\n",
    "#                 'ww_x_HIVERETE': ww_x_HIVERETE['value']\n",
    "#              })\n",
    "# with urllib.request.urlopen(request) as c:\n",
    "#     html = c.read()\n",
    "#     print(parseResult(html))"
   ]
  },
  {
   "cell_type": "code",
   "execution_count": 205,
   "metadata": {
    "collapsed": false
   },
   "outputs": [
    {
     "data": {
      "text/html": [
       "<div>\n",
       "<table border=\"1\" class=\"dataframe\">\n",
       "  <thead>\n",
       "    <tr style=\"text-align: right;\">\n",
       "      <th></th>\n",
       "      <th>year</th>\n",
       "      <th>section</th>\n",
       "      <th>level</th>\n",
       "      <th>semester</th>\n",
       "    </tr>\n",
       "  </thead>\n",
       "  <tbody>\n",
       "  </tbody>\n",
       "</table>\n",
       "</div>"
      ],
      "text/plain": [
       "Empty DataFrame\n",
       "Columns: [year, section, level, semester]\n",
       "Index: []"
      ]
     },
     "execution_count": 205,
     "metadata": {},
     "output_type": "execute_result"
    }
   ],
   "source": [
    "\n",
    "\n",
    "\n",
    "# for ww_x_PERIODE_PEDAGO in ww_x_PERIODE_PEDAGOs:\n",
    "#     print(parsePeriod(ww_x_PERIODE_PEDAGO.next))"
   ]
  },
  {
   "cell_type": "code",
   "execution_count": 193,
   "metadata": {
    "collapsed": false
   },
   "outputs": [
    {
     "data": {
      "text/plain": [
       "[<option value=\"355925344\">2016-2017</option>,\n",
       " <option value=\"213638028\">2015-2016</option>,\n",
       " <option value=\"213637922\">2014-2015</option>,\n",
       " <option value=\"213637754\">2013-2014</option>,\n",
       " <option value=\"123456101\">2012-2013</option>,\n",
       " <option value=\"123455150\">2011-2012</option>,\n",
       " <option value=\"39486325\">2010-2011</option>,\n",
       " <option value=\"978195\">2009-2010</option>,\n",
       " <option value=\"978187\">2008-2009</option>,\n",
       " <option value=\"978181\">2007-2008</option>]"
      ]
     },
     "execution_count": 193,
     "metadata": {},
     "output_type": "execute_result"
    }
   ],
   "source": [
    "ww_x_PERIODE_ACADs"
   ]
  },
  {
   "cell_type": "code",
   "execution_count": 319,
   "metadata": {
    "collapsed": false
   },
   "outputs": [
    {
     "data": {
      "text/html": [
       "<div>\n",
       "<table border=\"1\" class=\"dataframe\">\n",
       "  <thead>\n",
       "    <tr style=\"text-align: right;\">\n",
       "      <th></th>\n",
       "      <th>a</th>\n",
       "      <th>b</th>\n",
       "    </tr>\n",
       "  </thead>\n",
       "  <tbody>\n",
       "    <tr>\n",
       "      <th>0</th>\n",
       "      <td>1</td>\n",
       "      <td>2</td>\n",
       "    </tr>\n",
       "  </tbody>\n",
       "</table>\n",
       "</div>"
      ],
      "text/plain": [
       "   a  b\n",
       "0  1  2"
      ]
     },
     "execution_count": 319,
     "metadata": {},
     "output_type": "execute_result"
    }
   ],
   "source": [
    "df = pd.DataFrame({'a': 1, 'b': 2}, index = [0])\n",
    "df\n",
    "\n",
    "pd.concat( (df, df)[1:2] )\n",
    "\n"
   ]
  }
 ],
 "metadata": {
  "anaconda-cloud": {},
  "kernelspec": {
   "display_name": "Python [conda root]",
   "language": "python",
   "name": "conda-root-py"
  },
  "language_info": {
   "codemirror_mode": {
    "name": "ipython",
    "version": 3
   },
   "file_extension": ".py",
   "mimetype": "text/x-python",
   "name": "python",
   "nbconvert_exporter": "python",
   "pygments_lexer": "ipython3",
   "version": "3.5.2"
  }
 },
 "nbformat": 4,
 "nbformat_minor": 1
}
