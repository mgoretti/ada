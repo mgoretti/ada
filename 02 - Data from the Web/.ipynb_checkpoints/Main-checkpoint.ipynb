{
 "cells": [
  {
   "cell_type": "code",
   "execution_count": 1,
   "metadata": {
    "collapsed": false
   },
   "outputs": [],
   "source": [
    "import pandas as pd\n",
    "import numpy as np\n",
    "import urllib.request\n",
    "from bs4 import BeautifulSoup\n",
    "import re\n",
    "from itertools import * \n",
    "import concurrent.futures\n",
    "from functools import reduce\n",
    "\n",
    "import scipy.stats as stats\n",
    "import statsmodels.api as sm"
   ]
  },
  {
   "cell_type": "markdown",
   "metadata": {},
   "source": [
    "## Data Crawler:\n"
   ]
  },
  {
   "cell_type": "code",
   "execution_count": 2,
   "metadata": {
    "collapsed": false
   },
   "outputs": [],
   "source": [
    "html_doc = urllib.request.urlopen(\"http://isa.epfl.ch/imoniteur_ISAP/!GEDPUBLICREPORTS.filter?ww_b_list=1&ww_i_reportmodel=133685247&ww_c_langue=&ww_i_reportModelXsl=133685270&zz_x_UNITE_ACAD=&ww_x_UNITE_ACAD=942293&zz_x_PERIODE_ACAD=&ww_x_PERIODE_ACAD=355925344&zz_x_PERIODE_PEDAGO=&ww_x_PERIODE_PEDAGO=942155&zz_x_HIVERETE=&ww_x_HIVERETE=2936286&dummy=ok\").read()\n",
    "soup = BeautifulSoup(html_doc, 'html.parser')"
   ]
  },
  {
   "cell_type": "code",
   "execution_count": 219,
   "metadata": {
    "collapsed": false
   },
   "outputs": [],
   "source": [
    "# query all the pages, put the content of the array in a dataframe using the column names\n",
    "# as titles and concatenate them together in a final df. Once for Bachelor data and once for master\n",
    "OFFSET_STATUS = 7\n",
    "\n",
    "# transform the iterable in none if it's empty\n",
    "def peek(iterable):\n",
    "    try:\n",
    "        first = next(iterable)\n",
    "    except StopIteration:\n",
    "        return None\n",
    "    return chain([first], iterable)\n",
    "\n",
    "# return the request url for the given parameters\n",
    "def buildRequest(params):\n",
    "    requestParams = ''\n",
    "    for key in params:\n",
    "        requestParams += key + '=' + str(params[key]) + '&'\n",
    "    return \"http://isa.epfl.ch/imoniteur_ISAP/!GEDPUBLICREPORTS.html?\" + requestParams\n",
    "\n",
    "# split the period value in a tuple\n",
    "def parsePeriod(period):\n",
    "    if \"Bachelor semestre\" in period:\n",
    "        return ('Bachelor', period[len('Bachelor semestre '):])\n",
    "    if \"Master semestre\" in period:\n",
    "        return ('Master', period[len('Master semestre '):])\n",
    "    if \"Projet Master\" in period:\n",
    "        return ('Master Project', 'PM')\n",
    "\n",
    "    return 'Other'\n",
    "\n",
    "# automne -> 0, printemps -> 1\n",
    "def getSemester(semester):\n",
    "    if semester == \"Semestre d'automne\":\n",
    "        return 0\n",
    "    else:\n",
    "        return 1\n",
    "    \n",
    "def parseTitle(e):\n",
    "    return [(x.contents[0], i) for i,x in enumerate(e.findChildren())] \n",
    "\n",
    "def parseResult(html):\n",
    "    def genPersonDf(person, title):\n",
    "        personDict = parsePerson(person, title)\n",
    "        if personDict is None:\n",
    "            return pd.DataFrame()\n",
    "        return pd.DataFrame(personDict, index=[personDict['No Sciper']])\n",
    "        \n",
    "    def parsePerson(person, title):\n",
    "        def getContent(e):\n",
    "            content = e.contents\n",
    "            if len(content) > 0:\n",
    "                return content[0]\n",
    "            else:\n",
    "                return ''\n",
    "            \n",
    "            \n",
    "        elems = person.findChildren()\n",
    "        if (len(elems) < 12\n",
    "        or \"<th>Civilité</th>\" in str(elems) # for when we have several tables because of Tous\n",
    "        or \"<td\" in str(elems[OFFSET_STATUS].next)): # for Randriamparany Tahina Mikaela....\n",
    "            return None\n",
    "        return {x[0]: getContent(elems[x[1]])  for x in title}\n",
    "    soup = BeautifulSoup(html, 'html.parser')\n",
    "    \n",
    "    persons = soup.findAll('tr')[1:]\n",
    "    if len(persons) > 0:\n",
    "        title = parseTitle(persons[0])\n",
    "        it = (genPersonDf(person, title) for person in persons[1:])\n",
    "        it = peek(it)\n",
    "        if it is None:\n",
    "            return pd.DataFrame()\n",
    "        else:\n",
    "            return pd.concat(it)\n",
    "    else:\n",
    "        return pd.DataFrame()\n",
    "\n",
    "\n",
    "\n",
    "def genDF(params):\n",
    "    request = buildRequest({\n",
    "                                'ww_x_GPS': ww_x_GPS,\n",
    "                                'ww_i_reportModel': ww_i_reportModel,\n",
    "                                'ww_i_reportModelXsl': ww_i_reportModelXsl,\n",
    "                                'ww_x_PERIODE_ACAD': params[1]['value'],\n",
    "                                'ww_x_UNITE_ACAD': params[2]['value'],\n",
    "                                'ww_x_PERIODE_PEDAGO': params[0]['value'],\n",
    "                                'ww_x_HIVERETE': params[3]['value']\n",
    "                             })\n",
    "    with urllib.request.urlopen(request) as c:\n",
    "        html = c.read()\n",
    "        df = parseResult(html)\n",
    "        df['year'] = params[1].next\n",
    "        df['section'] = params[2].next\n",
    "        period = parsePeriod(params[0].next)\n",
    "        df['period'] = getSemester(params[3].next)\n",
    "        df['level'] = period[0]\n",
    "        df['semester'] = period[1]\n",
    "        return df\n",
    "\n",
    "# select all?\n",
    "ww_x_GPS=-1\n",
    "\n",
    "ww_i_reportModel =  soup.findAll(\"input\", {\"name\": \"ww_i_reportmodel\"})[0]['value']\n",
    "\n",
    "ww_i_reportModelXsl =  soup.findAll(\"input\", {\"name\": \"ww_i_reportModelXsl\"})[0]['value'] # select the first value as it is the html report\n",
    "\n",
    "# remove the null by doing removing the first element\n",
    "ww_x_UNITE_ACADs =  soup.findAll(\"select\", {\"name\": \"ww_x_UNITE_ACAD\"})[0].findChildren()[1:] \n",
    "ww_x_PERIODE_ACADs =  soup.findAll(\"select\", {\"name\": \"ww_x_PERIODE_ACAD\"})[0].findChildren()[1:]\n",
    "ww_x_PERIODE_PEDAGOs = soup.findAll(\"select\", {\"name\": \"ww_x_PERIODE_PEDAGO\"})[0].findChildren()[1:]\n",
    "ww_x_HIVERETEs = soup.findAll(\"select\", {\"name\": \"ww_x_HIVERETE\"})[0].findChildren()[1:]\n",
    "\n",
    "itBachelor = product(\n",
    "            filter(lambda x: \"Bachelor\" in x.next, ww_x_PERIODE_PEDAGOs),\n",
    "#             filter(lambda x: \"2015-2016\" in x.next, ww_x_PERIODE_ACADs),\n",
    "            ww_x_PERIODE_ACADs,\n",
    "             filter(lambda x: \"Informatique\" in x.next, ww_x_UNITE_ACADs),\n",
    "#              ww_x_UNITE_ACADs,\n",
    "             ww_x_HIVERETEs\n",
    "           )\n",
    "\n",
    "itMaster = product(\n",
    "            filter(lambda x: \"Master\" in x.next or \"Project\" in x.next, ww_x_PERIODE_PEDAGOs),\n",
    "#             filter(lambda x: \"2015-2016\" in x.next, ww_x_PERIODE_ACADs),\n",
    "            ww_x_PERIODE_ACADs,\n",
    "             filter(lambda x: \"Informatique\" in x.next, ww_x_UNITE_ACADs),\n",
    "#              ww_x_UNITE_ACADs,\n",
    "             ww_x_HIVERETEs\n",
    "           )\n",
    "     \n",
    "# #We can use a with statement to ensure threads are cleaned up promptly\n",
    "with concurrent.futures.ThreadPoolExecutor(max_workers=50) as executor:\n",
    "    # Start the load operations and mark each future with its URL\n",
    "    future_to_url = {executor.submit(genDF, params): params for params in itBachelor}\n",
    "    dfB = pd.concat(future.result() for future in concurrent.futures.as_completed(future_to_url))\n",
    "\n",
    "with concurrent.futures.ThreadPoolExecutor(max_workers=50) as executor:\n",
    "    # Start the load operations and mark each future with its URL\n",
    "    future_to_url = {executor.submit(genDF, params): params for params in itMaster}\n",
    "    dfM = pd.concat(future.result() for future in concurrent.futures.as_completed(future_to_url))"
   ]
  },
  {
   "cell_type": "code",
   "execution_count": 4,
   "metadata": {
    "collapsed": false
   },
   "outputs": [
    {
     "name": "stdout",
     "output_type": "stream",
     "text": [
      "Présent    5502\n",
      "Congé       296\n",
      "Attente       9\n",
      "Name: Statut, dtype: int64\n",
      "Présent    2485\n",
      "Stage       282\n",
      "Congé        77\n",
      "Name: Statut, dtype: int64\n"
     ]
    }
   ],
   "source": [
    "print(dfB['Statut'].value_counts())\n",
    "print(dfM['Statut'].value_counts())"
   ]
  },
  {
   "cell_type": "markdown",
   "metadata": {},
   "source": [
    "# Bachelor students analysis:\n",
    "## Goals:\n",
    "Here we show how long master students took to complete their bachelor per sex and if there are significant statistical  difference\n",
    "## Assumptions:\n",
    "We consider a student that has reached the 6th semester to have finished his bachelor but we compute the correct time. Indeed we compute the duration by ordering the rows by year and period. Then we find the duration using the first and last row. \n",
    "\n"
   ]
  },
  {
   "cell_type": "code",
   "execution_count": 221,
   "metadata": {
    "collapsed": false
   },
   "outputs": [
    {
     "name": "stdout",
     "output_type": "stream",
     "text": [
      "Average duration per sex            duration\n",
      "sex                \n",
      "Madame    40.758621\n",
      "Monsieur  42.880435\n",
      "Average difference in duration    2.121814\n",
      "dtype: float64\n"
     ]
    }
   ],
   "source": [
    "# remove people that don't have semester 1 and 6 in the data\n",
    "# we consider that people that have an entry for semester 6 finished their bachelor \n",
    "# as they get removed from that list if they fail\n",
    "def removeIncomplete(person):\n",
    "    did1 = reduce(lambda x,y: x or y, person.semester == '1', False) # check if the student has a semester 1 entry\n",
    "    did6 = reduce(lambda x,y: x or y, person.semester == '6', False) # check if the student has a semester 6 entry\n",
    "    return did1 and did6\n",
    "\n",
    "# sort the data chronologically and compute the difference in time between the first and last semester\n",
    "# we compute it in years and multiply by 12\n",
    "def bachelorDuration(person):\n",
    "    sample = person.iloc(0)[0] # used to get general infos\n",
    "    sorted = person.sort_values(by=['year', 'period'])\n",
    "    startYear = sorted.iloc[0]['year'] # get the first bachelor period\n",
    "    startPeriod = sorted.iloc[0]['period']\n",
    "\n",
    "    endYear = sorted.iloc[-1]['year'] # get the last bachelor period\n",
    "    endPeriod = sorted.iloc[-1]['period']\n",
    "    \n",
    "    duration = 12*(0.5 + float(endYear[:4]) - float(startYear[:4]) + (float(endPeriod) - float(startPeriod))/2)\n",
    "    return pd.Series({'sex': sample['Civilité'], 'duration': duration})\n",
    "\n",
    "#Remove the students that have not finished their bachelors\n",
    "dfBCompleted = dfB.groupby(dfB.index).filter(removeIncomplete)\n",
    "\n",
    "#Get duration of bachelor per student\n",
    "s = dfBCompleted.groupby(dfBCompleted.index).apply(bachelorDuration)\n",
    "\n",
    "mean = s.groupby('sex').mean()\n",
    "print(\"Average duration per sex {}\".format(mean))\n",
    "print(\"Average difference in {}\".format(mean.iloc(0)[1] - mean.iloc(0)[0]))\n"
   ]
  },
  {
   "cell_type": "markdown",
   "metadata": {},
   "source": [
    "## Statistical Significance Test  "
   ]
  },
  {
   "cell_type": "code",
   "execution_count": 223,
   "metadata": {
    "collapsed": false
   },
   "outputs": [
    {
     "name": "stdout",
     "output_type": "stream",
     "text": [
      "t stat: 1.34370056781\n",
      "degrees of freedom: 28\n",
      "the p-value is: 0.189833792999\n"
     ]
    }
   ],
   "source": [
    "# manual t-test\n",
    "se2 = s.groupby('sex').var()/s.groupby('sex').count()\n",
    "\n",
    "t = (mean['duration'][1] - mean['duration'][0]) / np.sqrt(se2['duration'][0] + se2['duration'][1])\n",
    "df = s.groupby('sex').count().min()[0] - 1\n",
    "print('t stat: ' + str(t))\n",
    "print('degrees of freedom: ' + str(df))\n",
    "\n",
    "p = (1-stats.t.cdf(t, df))*2\n",
    "print('the p-value is: ' + str(p))"
   ]
  },
  {
   "cell_type": "markdown",
   "metadata": {},
   "source": [
    "We can't reject H0 (the 2 means are equal), => we don't observe any significant difference"
   ]
  },
  {
   "cell_type": "markdown",
   "metadata": {},
   "source": [
    "Testing with a other methods"
   ]
  },
  {
   "cell_type": "code",
   "execution_count": 224,
   "metadata": {
    "collapsed": false
   },
   "outputs": [
    {
     "data": {
      "text/plain": [
       "Ttest_indResult(statistic=1.3437005678090845, pvalue=0.18785555340784144)"
      ]
     },
     "execution_count": 224,
     "metadata": {},
     "output_type": "execute_result"
    }
   ],
   "source": [
    "M = s[s.sex == 'Monsieur']\n",
    "F = s[s.sex != 'Monsieur']\n",
    "\n",
    "stats.ttest_ind(M['duration'], F['duration'], equal_var=False)"
   ]
  },
  {
   "cell_type": "markdown",
   "metadata": {},
   "source": [
    "Here we get a small difference in p-value compared to the previous one because the test is using the Welch-Satterthwaite degrees of freedom instead of the lowest df of the 2 series."
   ]
  },
  {
   "cell_type": "code",
   "execution_count": 226,
   "metadata": {
    "collapsed": false
   },
   "outputs": [
    {
     "data": {
      "text/plain": [
       "0.18780024218122748"
      ]
     },
     "execution_count": 226,
     "metadata": {},
     "output_type": "execute_result"
    }
   ],
   "source": [
    "pop1 = M['duration']\n",
    "pop2 = F['duration']\n",
    "num1 = pop1.count()\n",
    "num2 = pop2.count()\n",
    "df = ((np.var(pop1)/num1 + np.var(pop2)/num2)**(2.0))/(   (np.var(pop1)/num1)**(2.0)/(num1-1) +  (np.var(pop2)/num2)**(2.0)/(num2-1) ) \n",
    "(1-stats.t.cdf(t, df))*2"
   ]
  },
  {
   "cell_type": "markdown",
   "metadata": {},
   "source": [
    "We can also use a linear regression to check if there a significant difference"
   ]
  },
  {
   "cell_type": "code",
   "execution_count": 227,
   "metadata": {
    "collapsed": false
   },
   "outputs": [
    {
     "data": {
      "text/html": [
       "<table class=\"simpletable\">\n",
       "<caption>OLS Regression Results</caption>\n",
       "<tr>\n",
       "  <th>Dep. Variable:</th>        <td>duration</td>     <th>  R-squared:         </th> <td>   0.003</td>\n",
       "</tr>\n",
       "<tr>\n",
       "  <th>Model:</th>                   <td>OLS</td>       <th>  Adj. R-squared:    </th> <td>   0.001</td>\n",
       "</tr>\n",
       "<tr>\n",
       "  <th>Method:</th>             <td>Least Squares</td>  <th>  F-statistic:       </th> <td>   1.749</td>\n",
       "</tr>\n",
       "<tr>\n",
       "  <th>Date:</th>             <td>Mon, 17 Oct 2016</td> <th>  Prob (F-statistic):</th>  <td> 0.187</td> \n",
       "</tr>\n",
       "<tr>\n",
       "  <th>Time:</th>                 <td>13:09:13</td>     <th>  Log-Likelihood:    </th> <td> -1450.5</td>\n",
       "</tr>\n",
       "<tr>\n",
       "  <th>No. Observations:</th>      <td>   397</td>      <th>  AIC:               </th> <td>   2905.</td>\n",
       "</tr>\n",
       "<tr>\n",
       "  <th>Df Residuals:</th>          <td>   395</td>      <th>  BIC:               </th> <td>   2913.</td>\n",
       "</tr>\n",
       "<tr>\n",
       "  <th>Df Model:</th>              <td>     1</td>      <th>                     </th>     <td> </td>   \n",
       "</tr>\n",
       "<tr>\n",
       "  <th>Covariance Type:</th>         <td>HC3</td>       <th>                     </th>     <td> </td>   \n",
       "</tr>\n",
       "</table>\n",
       "<table class=\"simpletable\">\n",
       "<tr>\n",
       "    <td></td>       <th>coef</th>     <th>std err</th>      <th>z</th>      <th>P>|z|</th> <th>[95.0% Conf. Int.]</th> \n",
       "</tr>\n",
       "<tr>\n",
       "  <th>const</th> <td>   40.7586</td> <td>    1.527</td> <td>   26.698</td> <td> 0.000</td> <td>   37.766    43.751</td>\n",
       "</tr>\n",
       "<tr>\n",
       "  <th>sex</th>   <td>    2.1218</td> <td>    1.605</td> <td>    1.322</td> <td> 0.186</td> <td>   -1.023     5.267</td>\n",
       "</tr>\n",
       "</table>\n",
       "<table class=\"simpletable\">\n",
       "<tr>\n",
       "  <th>Omnibus:</th>       <td>92.931</td> <th>  Durbin-Watson:     </th> <td>   1.823</td>\n",
       "</tr>\n",
       "<tr>\n",
       "  <th>Prob(Omnibus):</th> <td> 0.000</td> <th>  Jarque-Bera (JB):  </th> <td> 159.029</td>\n",
       "</tr>\n",
       "<tr>\n",
       "  <th>Skew:</th>          <td> 1.385</td> <th>  Prob(JB):          </th> <td>2.93e-35</td>\n",
       "</tr>\n",
       "<tr>\n",
       "  <th>Kurtosis:</th>      <td> 4.392</td> <th>  Cond. No.          </th> <td>    7.27</td>\n",
       "</tr>\n",
       "</table>"
      ],
      "text/plain": [
       "<class 'statsmodels.iolib.summary.Summary'>\n",
       "\"\"\"\n",
       "                            OLS Regression Results                            \n",
       "==============================================================================\n",
       "Dep. Variable:               duration   R-squared:                       0.003\n",
       "Model:                            OLS   Adj. R-squared:                  0.001\n",
       "Method:                 Least Squares   F-statistic:                     1.749\n",
       "Date:                Mon, 17 Oct 2016   Prob (F-statistic):              0.187\n",
       "Time:                        13:09:13   Log-Likelihood:                -1450.5\n",
       "No. Observations:                 397   AIC:                             2905.\n",
       "Df Residuals:                     395   BIC:                             2913.\n",
       "Df Model:                           1                                         \n",
       "Covariance Type:                  HC3                                         \n",
       "==============================================================================\n",
       "                 coef    std err          z      P>|z|      [95.0% Conf. Int.]\n",
       "------------------------------------------------------------------------------\n",
       "const         40.7586      1.527     26.698      0.000        37.766    43.751\n",
       "sex            2.1218      1.605      1.322      0.186        -1.023     5.267\n",
       "==============================================================================\n",
       "Omnibus:                       92.931   Durbin-Watson:                   1.823\n",
       "Prob(Omnibus):                  0.000   Jarque-Bera (JB):              159.029\n",
       "Skew:                           1.385   Prob(JB):                     2.93e-35\n",
       "Kurtosis:                       4.392   Cond. No.                         7.27\n",
       "==============================================================================\n",
       "\n",
       "Warnings:\n",
       "[1] Standard Errors are heteroscedasticity robust (HC3)\n",
       "\"\"\""
      ]
     },
     "execution_count": 227,
     "metadata": {},
     "output_type": "execute_result"
    }
   ],
   "source": [
    "s2 = s\n",
    "a = pd.Categorical.from_array(s2['sex'])\n",
    "s2['sex'] = a.codes\n",
    "\n",
    "sm.OLS(s2['duration'], sm.add_constant(s2['sex'])).fit(cov_type='HC3').summary()"
   ]
  },
  {
   "cell_type": "markdown",
   "metadata": {},
   "source": [
    "The coefficient of the sex dummy is non-significant <br>\n",
    "We see that the average is 3.4 years for females (the sex dummy is encoded to 0) and 3.57 for males"
   ]
  },
  {
   "cell_type": "markdown",
   "metadata": {},
   "source": [
    "# Master students analysis:\n",
    "## Goals:\n",
    "Here we show how long master students took to complete their master and if there are significant statistical  difference between sex and specialization\n",
    "## Assumptions:\n",
    "Since the data on the master project is incomplete, we didn't take it into account. In fact we had examples of people who should be on the list which were not. There for our results don't take into account the PDM. <br >\n",
    "The stage is typically not done at EPFL so it's not useful here.\n",
    "We also removed all rows where students were not present at EPFL. <br>\n",
    "To figure out if someone finished their master, we check if they did two semesters and no spe/minor or if they did three semesters and a spe/minor <br >\n",
    "We then count the time in years by using the last and first rows ordered by year and period (which work because we only kept \"Présent\" rows)\n",
    "\n"
   ]
  },
  {
   "cell_type": "code",
   "execution_count": 228,
   "metadata": {
    "collapsed": false
   },
   "outputs": [
    {
     "name": "stdout",
     "output_type": "stream",
     "text": [
      "Average finish time in months : 20.78838174273859\n",
      "Average finish time in months per sex : \n",
      "           duration\n",
      "sex                \n",
      "Madame    20.307692\n",
      "Monsieur  20.863309\n",
      "Average finish time in months per spe :\n",
      "                                 duration\n",
      "spe                                      \n",
      "                                19.677419\n",
      "Biocomputing                    28.000000\n",
      "Computer Engineering - SP       22.000000\n",
      "Computer Science Theory         18.000000\n",
      "Data Analytics                  18.000000\n",
      "Foundations of Software         22.500000\n",
      "Information Security - SP       21.428571\n",
      "Internet Information Systems    18.000000\n",
      "Internet computing              22.129870\n",
      "Service science                 22.000000\n",
      "Signals, Images and Interfaces  24.782609\n",
      "Software Systems                20.142857\n",
      "Number of registered student per spe : \n",
      "                                duration  sex\n",
      "spe                                          \n",
      "                                     279  279\n",
      "Biocomputing                           3    3\n",
      "Computer Engineering - SP             18   18\n",
      "Computer Science Theory                1    1\n",
      "Data Analytics                         4    4\n",
      "Foundations of Software               52   52\n",
      "Information Security - SP              7    7\n",
      "Internet Information Systems           1    1\n",
      "Internet computing                    77   77\n",
      "Service science                        3    3\n",
      "Signals, Images and Interfaces        23   23\n",
      "Software Systems                      14   14\n"
     ]
    }
   ],
   "source": [
    "# Get all students who did a whole master\n",
    "# We kept all student that:\n",
    "# had a Master 1 entry\n",
    "# had a Master 2 entry and no spe/mineur or had a spe/mineur and a master 3 entry\n",
    "def removeIncompleteMaster(person):\n",
    "    did1 = reduce(lambda x,y: x or y, person.semester == '1', False)\n",
    "    did3 = reduce(lambda x,y: x or y, person.semester == '3', False)\n",
    "    didspe = reduce(lambda x,y: x or y, person.spe != '', False)\n",
    "    didminor = reduce(lambda x,y: x or y, person.Mineur != '', False)\n",
    "    did2 = reduce(lambda x,y: x or y, person.semester == '3', False)\n",
    "\n",
    "    return did1 and (did3 and (didspe or didminor)) or (did2 and ~didspe and ~didminor)\n",
    "\n",
    "# sort the data chronologically and compute the difference in time between the first and last semester\n",
    "# we compute it in years and multiply by 12\n",
    "def masterDuration(person):\n",
    "    sorted = person.sort_values(by=['year', 'period'])\n",
    "    sample = sorted.iloc[-1] # we keep the info for the last period only so we have an update spe\n",
    "    startYear = sorted.iloc[0]['year']\n",
    "    startPeriod = sorted.iloc[0]['period']\n",
    "\n",
    "    endYear = sorted.iloc[-1]['year']\n",
    "    endPeriod = sorted.iloc[-1]['period']\n",
    "    \n",
    "    duration = 12*(0.5 + float(endYear[:4]) - float(startYear[:4]) + (float(endPeriod) - float(startPeriod))/2.0)\n",
    "    \n",
    "    return pd.Series({'sex': sample['Civilité'], 'spe': sample['spe'], 'duration': duration})\n",
    "\n",
    "\n",
    "#Rename column for handiness\n",
    "dfMP = dfM.rename(columns = {'Spécialisation':'spe'})\n",
    "\n",
    "#Only keep present rows\n",
    "dfMP = dfMP[dfMP.Statut != \"Stage\"] # we remove stage information\n",
    "\n",
    "#Get finished master\n",
    "dfMFinished = pd.DataFrame(dfMP.groupby(dfMP.index).filter(removeIncompleteMaster))\n",
    "\n",
    "#Get duration for each student\n",
    "dfMFinishedDuration =  dfMFinished.groupby(dfMFinished.index).apply(masterDuration)\n",
    "\n",
    "#Sex\n",
    "print (\"Average finish time in months : {}\".format(dfMFinishedDuration.mean()[0] ))\n",
    "print (\"Average finish time in months per sex : \")\n",
    "print(dfMFinishedDuration.groupby('sex').mean())\n",
    "\n",
    "#Spe\n",
    "print (\"Average finish time in months per spe :\")\n",
    "print(dfMFinishedDuration.groupby('spe').mean())\n",
    "print (\"Number of registered student per spe : \")\n",
    "print(dfMFinishedDuration.groupby('spe').count())"
   ]
  },
  {
   "cell_type": "markdown",
   "metadata": {},
   "source": [
    "## Statistical Significance Test  "
   ]
  },
  {
   "cell_type": "code",
   "execution_count": 213,
   "metadata": {
    "collapsed": false
   },
   "outputs": [
    {
     "data": {
      "text/plain": [
       "Ttest_indResult(statistic=0.63657336700382761, pvalue=0.52616330907229658)"
      ]
     },
     "execution_count": 213,
     "metadata": {},
     "output_type": "execute_result"
    }
   ],
   "source": [
    "M = dfMFinishedDuration[dfMFinishedDuration.sex == 'Monsieur']\n",
    "F = dfMFinishedDuration[dfMFinishedDuration.sex != 'Monsieur']\n",
    "\n",
    "stats.ttest_ind(M['duration'], F['duration'], equal_var=False)"
   ]
  },
  {
   "cell_type": "markdown",
   "metadata": {},
   "source": [
    "No significant difference in length by sex"
   ]
  },
  {
   "cell_type": "code",
   "execution_count": 214,
   "metadata": {
    "collapsed": false
   },
   "outputs": [
    {
     "data": {
      "text/html": [
       "<table class=\"simpletable\">\n",
       "<caption>OLS Regression Results</caption>\n",
       "<tr>\n",
       "  <th>Dep. Variable:</th>        <td>duration</td>     <th>  R-squared:         </th> <td>   0.066</td>\n",
       "</tr>\n",
       "<tr>\n",
       "  <th>Model:</th>                   <td>OLS</td>       <th>  Adj. R-squared:    </th> <td>   0.044</td>\n",
       "</tr>\n",
       "<tr>\n",
       "  <th>Method:</th>             <td>Least Squares</td>  <th>  F-statistic:       </th> <td>   11.01</td>\n",
       "</tr>\n",
       "<tr>\n",
       "  <th>Date:</th>             <td>Mon, 17 Oct 2016</td> <th>  Prob (F-statistic):</th> <td>3.19e-18</td>\n",
       "</tr>\n",
       "<tr>\n",
       "  <th>Time:</th>                 <td>12:59:51</td>     <th>  Log-Likelihood:    </th> <td> -1550.2</td>\n",
       "</tr>\n",
       "<tr>\n",
       "  <th>No. Observations:</th>      <td>   482</td>      <th>  AIC:               </th> <td>   3124.</td>\n",
       "</tr>\n",
       "<tr>\n",
       "  <th>Df Residuals:</th>          <td>   470</td>      <th>  BIC:               </th> <td>   3175.</td>\n",
       "</tr>\n",
       "<tr>\n",
       "  <th>Df Model:</th>              <td>    11</td>      <th>                     </th>     <td> </td>   \n",
       "</tr>\n",
       "<tr>\n",
       "  <th>Covariance Type:</th>         <td>HC3</td>       <th>                     </th>     <td> </td>   \n",
       "</tr>\n",
       "</table>\n",
       "<table class=\"simpletable\">\n",
       "<tr>\n",
       "                 <td></td>                   <th>coef</th>     <th>std err</th>      <th>z</th>      <th>P>|z|</th> <th>[95.0% Conf. Int.]</th> \n",
       "</tr>\n",
       "<tr>\n",
       "  <th>const</th>                          <td>   19.6774</td> <td>    0.365</td> <td>   53.893</td> <td> 0.000</td> <td>   18.962    20.393</td>\n",
       "</tr>\n",
       "<tr>\n",
       "  <th>Biocomputing</th>                   <td>    8.3226</td> <td>    6.491</td> <td>    1.282</td> <td> 0.200</td> <td>   -4.400    21.045</td>\n",
       "</tr>\n",
       "<tr>\n",
       "  <th>Computer Engineering - SP</th>      <td>    2.3226</td> <td>    1.370</td> <td>    1.695</td> <td> 0.090</td> <td>   -0.363     5.008</td>\n",
       "</tr>\n",
       "<tr>\n",
       "  <th>Computer Science Theory</th>        <td>   -1.6774</td> <td>    3.710</td> <td>   -0.452</td> <td> 0.651</td> <td>   -8.950     5.595</td>\n",
       "</tr>\n",
       "<tr>\n",
       "  <th>Data Analytics</th>                 <td>   -1.6774</td> <td>    0.365</td> <td>   -4.594</td> <td> 0.000</td> <td>   -2.393    -0.962</td>\n",
       "</tr>\n",
       "<tr>\n",
       "  <th>Foundations of Software</th>        <td>    2.8226</td> <td>    0.907</td> <td>    3.113</td> <td> 0.002</td> <td>    1.046     4.599</td>\n",
       "</tr>\n",
       "<tr>\n",
       "  <th>Information Security - SP</th>      <td>    1.7512</td> <td>    2.418</td> <td>    0.724</td> <td> 0.469</td> <td>   -2.988     6.491</td>\n",
       "</tr>\n",
       "<tr>\n",
       "  <th>Internet Information Systems</th>   <td>   -1.6774</td> <td>    4.017</td> <td>   -0.418</td> <td> 0.676</td> <td>   -9.550     6.195</td>\n",
       "</tr>\n",
       "<tr>\n",
       "  <th>Internet computing</th>             <td>    2.4525</td> <td>    0.740</td> <td>    3.313</td> <td> 0.001</td> <td>    1.002     3.903</td>\n",
       "</tr>\n",
       "<tr>\n",
       "  <th>Service science</th>                <td>    2.3226</td> <td>    4.913</td> <td>    0.473</td> <td> 0.636</td> <td>   -7.306    11.951</td>\n",
       "</tr>\n",
       "<tr>\n",
       "  <th>Signals, Images and Interfaces</th> <td>    5.1052</td> <td>    1.974</td> <td>    2.586</td> <td> 0.010</td> <td>    1.236     8.975</td>\n",
       "</tr>\n",
       "<tr>\n",
       "  <th>Software Systems</th>               <td>    0.4654</td> <td>    1.292</td> <td>    0.360</td> <td> 0.719</td> <td>   -2.067     2.998</td>\n",
       "</tr>\n",
       "</table>\n",
       "<table class=\"simpletable\">\n",
       "<tr>\n",
       "  <th>Omnibus:</th>       <td>71.002</td> <th>  Durbin-Watson:     </th> <td>   1.889</td>\n",
       "</tr>\n",
       "<tr>\n",
       "  <th>Prob(Omnibus):</th> <td> 0.000</td> <th>  Jarque-Bera (JB):  </th> <td> 155.433</td>\n",
       "</tr>\n",
       "<tr>\n",
       "  <th>Skew:</th>          <td> 0.793</td> <th>  Prob(JB):          </th> <td>1.77e-34</td>\n",
       "</tr>\n",
       "<tr>\n",
       "  <th>Kurtosis:</th>      <td> 5.286</td> <th>  Cond. No.          </th> <td>    22.5</td>\n",
       "</tr>\n",
       "</table>"
      ],
      "text/plain": [
       "<class 'statsmodels.iolib.summary.Summary'>\n",
       "\"\"\"\n",
       "                            OLS Regression Results                            \n",
       "==============================================================================\n",
       "Dep. Variable:               duration   R-squared:                       0.066\n",
       "Model:                            OLS   Adj. R-squared:                  0.044\n",
       "Method:                 Least Squares   F-statistic:                     11.01\n",
       "Date:                Mon, 17 Oct 2016   Prob (F-statistic):           3.19e-18\n",
       "Time:                        12:59:51   Log-Likelihood:                -1550.2\n",
       "No. Observations:                 482   AIC:                             3124.\n",
       "Df Residuals:                     470   BIC:                             3175.\n",
       "Df Model:                          11                                         \n",
       "Covariance Type:                  HC3                                         \n",
       "==================================================================================================\n",
       "                                     coef    std err          z      P>|z|      [95.0% Conf. Int.]\n",
       "--------------------------------------------------------------------------------------------------\n",
       "const                             19.6774      0.365     53.893      0.000        18.962    20.393\n",
       "Biocomputing                       8.3226      6.491      1.282      0.200        -4.400    21.045\n",
       "Computer Engineering - SP          2.3226      1.370      1.695      0.090        -0.363     5.008\n",
       "Computer Science Theory           -1.6774      3.710     -0.452      0.651        -8.950     5.595\n",
       "Data Analytics                    -1.6774      0.365     -4.594      0.000        -2.393    -0.962\n",
       "Foundations of Software            2.8226      0.907      3.113      0.002         1.046     4.599\n",
       "Information Security - SP          1.7512      2.418      0.724      0.469        -2.988     6.491\n",
       "Internet Information Systems      -1.6774      4.017     -0.418      0.676        -9.550     6.195\n",
       "Internet computing                 2.4525      0.740      3.313      0.001         1.002     3.903\n",
       "Service science                    2.3226      4.913      0.473      0.636        -7.306    11.951\n",
       "Signals, Images and Interfaces     5.1052      1.974      2.586      0.010         1.236     8.975\n",
       "Software Systems                   0.4654      1.292      0.360      0.719        -2.067     2.998\n",
       "==============================================================================\n",
       "Omnibus:                       71.002   Durbin-Watson:                   1.889\n",
       "Prob(Omnibus):                  0.000   Jarque-Bera (JB):              155.433\n",
       "Skew:                           0.793   Prob(JB):                     1.77e-34\n",
       "Kurtosis:                       5.286   Cond. No.                         22.5\n",
       "==============================================================================\n",
       "\n",
       "Warnings:\n",
       "[1] Standard Errors are heteroscedasticity robust (HC3)\n",
       "\"\"\""
      ]
     },
     "execution_count": 214,
     "metadata": {},
     "output_type": "execute_result"
    }
   ],
   "source": [
    "Y = dfMFinishedDuration['duration']\n",
    "# we need to remove the default category dummy otherwise we get multicolinearity problems\n",
    "X = pd.concat([dfMFinishedDuration, pd.get_dummies(dfMFinishedDuration['spe'])], axis=1).drop(['duration', 'sex', 'spe', ''], axis = 1)\n",
    "sm.OLS(Y, sm.add_constant(X)).fit(cov_type='HC3').summary()"
   ]
  },
  {
   "cell_type": "markdown",
   "metadata": {},
   "source": [
    "This is a comparison of the effect of having a spe with respect to not having one (not the population mean). We see that Data Analytics, FoS, Internet Computing and Signals, Images and Interfaces have a significant effect"
   ]
  },
  {
   "cell_type": "code",
   "execution_count": 215,
   "metadata": {
    "collapsed": false
   },
   "outputs": [
    {
     "name": "stdout",
     "output_type": "stream",
     "text": [
      "Signals, Images and Interfaces, p-value: 0.0486902784227\n",
      "Internet computing, p-value: 0.0580088733457\n",
      "Biocomputing, p-value: 0.305952739373\n",
      "Foundations of Software, p-value: 0.0534057515575\n",
      "Computer Engineering - SP, p-value: 0.368425283238\n",
      "Service science, p-value: 0.79081550307\n",
      "Software Systems, p-value: 0.607060202005\n",
      "Information Security - SP, p-value: 0.783532939799\n",
      "Data Analytics, p-value: 8.90242324119e-21\n",
      "Internet Information Systems, p-value: nan\n",
      "Computer Science Theory, p-value: nan\n"
     ]
    },
    {
     "name": "stderr",
     "output_type": "stream",
     "text": [
      "/Users/Marco/anaconda/lib/python3.5/site-packages/numpy/core/_methods.py:82: RuntimeWarning: Degrees of freedom <= 0 for slice\n",
      "  warnings.warn(\"Degrees of freedom <= 0 for slice\", RuntimeWarning)\n"
     ]
    }
   ],
   "source": [
    "# comparison with respect to the whole population (including students without a spe)\n",
    "withSpe = dfMFinishedDuration[dfMFinishedDuration['spe'] != '']\n",
    "\n",
    "for spe in withSpe['spe'].unique():\n",
    "    p = stats.ttest_ind(dfMFinishedDuration['duration'], withSpe[withSpe['spe'] == spe]['duration'], equal_var=False).pvalue\n",
    "    print(spe + ', p-value: ' + str(p))"
   ]
  },
  {
   "cell_type": "markdown",
   "metadata": {},
   "source": [
    "However, when comparing to the population mean, the only 2 spes that have a significant difference in duration are Data Analytics (However, only 4 persons finished it) and Signals, Images and Interfaces (23 persons).\n",
    "Internet computing and FoS are at very close to the threshold but not significant at 5%.\n",
    "\n",
    "Data analytics is shorter: 18 months vs 20.79<br>\n",
    "Signals, Images and Interfaces is longer: 4.78 vs 20.79"
   ]
  }
 ],
 "metadata": {
  "anaconda-cloud": {},
  "kernelspec": {
   "display_name": "Python [conda root]",
   "language": "python",
   "name": "conda-root-py"
  },
  "language_info": {
   "codemirror_mode": {
    "name": "ipython",
    "version": 3
   },
   "file_extension": ".py",
   "mimetype": "text/x-python",
   "name": "python",
   "nbconvert_exporter": "python",
   "pygments_lexer": "ipython3",
   "version": "3.5.2"
  }
 },
 "nbformat": 4,
 "nbformat_minor": 1
}
