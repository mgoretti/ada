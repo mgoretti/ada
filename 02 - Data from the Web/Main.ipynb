{
 "cells": [
  {
   "cell_type": "code",
   "execution_count": 256,
   "metadata": {
    "collapsed": false
   },
   "outputs": [],
   "source": [
    "import pandas as pd\n",
    "import numpy as np\n",
    "import urllib.request\n",
    "from bs4 import BeautifulSoup\n",
    "import re\n",
    "from itertools import * \n",
    "import concurrent.futures\n",
    "from functools import reduce\n",
    "\n",
    "import scipy.stats as stats\n",
    "import statsmodels.api as sm\n",
    "\n"
   ]
  },
  {
   "cell_type": "markdown",
   "metadata": {},
   "source": [
    "Extract all request parameters"
   ]
  },
  {
   "cell_type": "code",
   "execution_count": 2,
   "metadata": {
    "collapsed": false
   },
   "outputs": [],
   "source": [
    "html_doc = urllib.request.urlopen(\"http://isa.epfl.ch/imoniteur_ISAP/!GEDPUBLICREPORTS.filter?ww_b_list=1&ww_i_reportmodel=133685247&ww_c_langue=&ww_i_reportModelXsl=133685270&zz_x_UNITE_ACAD=&ww_x_UNITE_ACAD=942293&zz_x_PERIODE_ACAD=&ww_x_PERIODE_ACAD=355925344&zz_x_PERIODE_PEDAGO=&ww_x_PERIODE_PEDAGO=942155&zz_x_HIVERETE=&ww_x_HIVERETE=2936286&dummy=ok\").read()\n",
    "soup = BeautifulSoup(html_doc, 'html.parser')"
   ]
  },
  {
   "cell_type": "code",
   "execution_count": 30,
   "metadata": {
    "collapsed": false
   },
   "outputs": [],
   "source": [
    "OFFSET_STATUS = 7\n",
    "\n",
    "# transform the iterable in none if it's empty\n",
    "def peek(iterable):\n",
    "    try:\n",
    "        first = next(iterable)\n",
    "    except StopIteration:\n",
    "        return None\n",
    "    return chain([first], iterable)\n",
    "\n",
    "# return the request url for the given parameters\n",
    "def buildRequest(params):\n",
    "    requestParams = ''\n",
    "    for key in params:\n",
    "        requestParams += key + '=' + str(params[key]) + '&'\n",
    "    return \"http://isa.epfl.ch/imoniteur_ISAP/!GEDPUBLICREPORTS.html?\" + requestParams\n",
    "\n",
    "\n",
    "def parsePeriod(period):\n",
    "    if \"Bachelor semestre\" in period:\n",
    "        return ('Bachelor', period[len('Bachelor semestre '):])\n",
    "    if \"Master semestre\" in period:\n",
    "        return ('Master', period[len('Master semestre '):])\n",
    "\n",
    "    return 'ToDo'\n",
    "    # TODO: add support for master thesis and others\n",
    "    \n",
    "def getSemester(semester):\n",
    "    if semester == \"Semestre d'automne\":\n",
    "        return 0\n",
    "    else:\n",
    "        return 1\n",
    "    \n",
    "def parseTitle(e):\n",
    "    return [(x.contents[0], i) for i,x in enumerate(e.findChildren())] \n",
    "\n",
    "def parseResult(html):\n",
    "    def genPersonDf(person, title):\n",
    "        personDict = parsePerson(person, title)\n",
    "        if personDict is None:\n",
    "            return pd.DataFrame()\n",
    "        return pd.DataFrame(personDict, index=[personDict['No Sciper']])\n",
    "        \n",
    "    def parsePerson(person, title):\n",
    "        def getContent(e):\n",
    "            content = e.contents\n",
    "            if len(content) > 0:\n",
    "                return content[0]\n",
    "            else:\n",
    "                return ''\n",
    "            \n",
    "            \n",
    "        elems = person.findChildren()\n",
    "        if (len(elems) < 12\n",
    "        or \"<th>Civilité</th>\" in str(elems) # for when we have several tables because of Tous\n",
    "        or \"<td\" in str(elems[OFFSET_STATUS].next)): # for Randriamparany Tahina Mikaela....\n",
    "            return None\n",
    "        return {x[0]: getContent(elems[x[1]])  for x in title}\n",
    "#         return {\n",
    "#             'gender': elems[OFFSET_GENDER].contents,\n",
    "#             'name': elems[OFFSET_NAME].contents,\n",
    "#             'status': elems[OFFSET_STATUS].contents,\n",
    "#             'sciper': elems[OFFSET_SCIPER].contents,\n",
    "#         }\n",
    "    soup = BeautifulSoup(html, 'html.parser')\n",
    "    \n",
    "    persons = soup.findAll('tr')[1:]\n",
    "    if len(persons) > 0:\n",
    "        title = parseTitle(persons[0])\n",
    "        it = (genPersonDf(person, title) for person in persons[1:])\n",
    "        it = peek(it)\n",
    "        if it is None:\n",
    "            return pd.DataFrame()\n",
    "        else:\n",
    "            return pd.concat(it)\n",
    "    else:\n",
    "        return pd.DataFrame()\n",
    "\n",
    "\n",
    "\n",
    "def genDF(params):\n",
    "    request = buildRequest({\n",
    "                                'ww_x_GPS': ww_x_GPS,\n",
    "                                'ww_i_reportModel': ww_i_reportModel,\n",
    "                                'ww_i_reportModelXsl': ww_i_reportModelXsl,\n",
    "                                'ww_x_PERIODE_ACAD': params[1]['value'],\n",
    "                                'ww_x_UNITE_ACAD': params[2]['value'],\n",
    "                                'ww_x_PERIODE_PEDAGO': params[0]['value'],\n",
    "                                'ww_x_HIVERETE': params[3]['value']\n",
    "                             })\n",
    "    with urllib.request.urlopen(request) as c:\n",
    "        html = c.read()\n",
    "        df = parseResult(html)\n",
    "        df['year'] = params[1].next\n",
    "        df['section'] = params[2].next\n",
    "        period = parsePeriod(params[0].next)\n",
    "        df['period'] = getSemester(params[3].next)\n",
    "        df['level'] = period[0]\n",
    "        df['semester'] = period[1]\n",
    "        return df\n",
    "\n",
    "# select all?\n",
    "ww_x_GPS=-1\n",
    "\n",
    "ww_i_reportModel =  soup.findAll(\"input\", {\"name\": \"ww_i_reportmodel\"})[0]['value']\n",
    "\n",
    "ww_i_reportModelXsl =  soup.findAll(\"input\", {\"name\": \"ww_i_reportModelXsl\"})[0]['value'] # select the first value as it is the html report\n",
    "\n",
    "# remove the null by doing removing the first element\n",
    "ww_x_UNITE_ACADs =  soup.findAll(\"select\", {\"name\": \"ww_x_UNITE_ACAD\"})[0].findChildren()[1:] \n",
    "ww_x_PERIODE_ACADs =  soup.findAll(\"select\", {\"name\": \"ww_x_PERIODE_ACAD\"})[0].findChildren()[1:]\n",
    "ww_x_PERIODE_PEDAGOs = soup.findAll(\"select\", {\"name\": \"ww_x_PERIODE_PEDAGO\"})[0].findChildren()[1:]\n",
    "ww_x_HIVERETEs = soup.findAll(\"select\", {\"name\": \"ww_x_HIVERETE\"})[0].findChildren()[1:]\n",
    "\n",
    "\n",
    "# ww_x_PERIODE_ACAD = ww_x_PERIODE_ACADs[0]\n",
    "# ww_x_UNITE_ACAD = ww_x_UNITE_ACADs[0]\n",
    "# ww_x_PERIODE_PEDAGO = ww_x_PERIODE_PEDAGOs[0]\n",
    "# ww_x_HIVERETE = ww_x_HIVERETEs[0]\n",
    "\n",
    "itBachelor = product(\n",
    "            filter(lambda x: \"Bachelor\" in x.next, ww_x_PERIODE_PEDAGOs),\n",
    "#             filter(lambda x: \"2015-2016\" in x.next, ww_x_PERIODE_ACADs),\n",
    "            ww_x_PERIODE_ACADs,\n",
    "             filter(lambda x: \"Informatique\" in x.next, ww_x_UNITE_ACADs),\n",
    "#              ww_x_UNITE_ACADs,\n",
    "             ww_x_HIVERETEs\n",
    "           )\n",
    "\n",
    "itMaster = product(\n",
    "            filter(lambda x: \"Master\" in x.next, ww_x_PERIODE_PEDAGOs),\n",
    "#             filter(lambda x: \"2015-2016\" in x.next, ww_x_PERIODE_ACADs),\n",
    "            ww_x_PERIODE_ACADs,\n",
    "             filter(lambda x: \"Informatique\" in x.next, ww_x_UNITE_ACADs),\n",
    "#              ww_x_UNITE_ACADs,\n",
    "             ww_x_HIVERETEs\n",
    "           )\n",
    "# for (x, y, z, a) in it:\n",
    "#     print(x, y, z, a)\n",
    "             \n",
    "# df = pd.concat(list(map(genDF, it)))\n",
    "\n",
    "# #We can use a with statement to ensure threads are cleaned up promptly\n",
    "with concurrent.futures.ThreadPoolExecutor(max_workers=50) as executor:\n",
    "    # Start the load operations and mark each future with its URL\n",
    "    future_to_url = {executor.submit(genDF, params): params for params in itBachelor}\n",
    "    dfB = pd.concat(future.result() for future in concurrent.futures.as_completed(future_to_url))\n",
    "\n",
    "with concurrent.futures.ThreadPoolExecutor(max_workers=50) as executor:\n",
    "    # Start the load operations and mark each future with its URL\n",
    "    future_to_url = {executor.submit(genDF, params): params for params in itMaster}\n",
    "    dfM = pd.concat(future.result() for future in concurrent.futures.as_completed(future_to_url))\n",
    "\n",
    "#     for future in concurrent.futures.as_completed(future_to_url):\n",
    "#         url = future_to_url[future]\n",
    "#         print(future.result())\n",
    "#         try:\n",
    "#             data = future.result()\n",
    "#         except Exception as exc:\n",
    "#             print('%r generated an exception: %s' % (url, exc))\n",
    "#         else:\n",
    "#             print('%r page is %d bytes' % (url, len(data)))"
   ]
  },
  {
   "cell_type": "code",
   "execution_count": 31,
   "metadata": {
    "collapsed": false
   },
   "outputs": [
    {
     "name": "stdout",
     "output_type": "stream",
     "text": [
      "Présent    5502\n",
      "Congé       296\n",
      "Attente       9\n",
      "Name: Statut, dtype: int64\n",
      "Présent    2485\n",
      "Stage       282\n",
      "Congé        77\n",
      "Name: Statut, dtype: int64\n"
     ]
    }
   ],
   "source": [
    "print(dfB['Statut'].value_counts())\n",
    "print(dfM['Statut'].value_counts())"
   ]
  },
  {
   "cell_type": "code",
   "execution_count": 168,
   "metadata": {
    "collapsed": false
   },
   "outputs": [],
   "source": [
    "# def computeDuration():\n",
    "\n",
    "\n",
    "def removeIncomplete(person):\n",
    "    did1 = reduce(lambda x,y: x or y, person.semester == '1', False)\n",
    "    did6 = reduce(lambda x,y: x or y, person.semester == '6', False)\n",
    "    return did1 and did6\n",
    "\n",
    "def bachelorDuration(person):\n",
    "    sample = person.iloc(0)[0]\n",
    "    sorted = person.sort_values(by=['year', 'period'])\n",
    "    startYear = sorted.iloc[0]['year']\n",
    "    startPeriod = sorted.iloc[0]['period']\n",
    "\n",
    "    endYear = sorted.iloc[-1]['year']\n",
    "    endPeriod = sorted.iloc[-1]['period']\n",
    "    \n",
    "    duration = 0.5 + float(endYear[:4]) - float(startYear[:4]) + (float(endPeriod) - float(startPeriod))/2\n",
    "#     return pd.DataFrame({'sex': sample['Civilité'], 'duration': duration}, index=[sample['No Sciper']])\n",
    "    return pd.Series({'sex': sample['Civilité'], 'duration': duration})\n",
    "\n",
    "    \n",
    "\n",
    "completed = dfB.groupby(dfB.index).filter(removeIncomplete)\n",
    "\n",
    "s = completed.groupby(completed.index).apply(bachelorDuration)\n",
    "\n",
    "\n"
   ]
  },
  {
   "cell_type": "code",
   "execution_count": 192,
   "metadata": {
    "collapsed": false
   },
   "outputs": [
    {
     "data": {
      "text/plain": [
       "duration    0.176818\n",
       "dtype: float64"
      ]
     },
     "execution_count": 192,
     "metadata": {},
     "output_type": "execute_result"
    }
   ],
   "source": [
    "mean = s.groupby('sex').mean()\n",
    "mean.iloc(0)[1] - mean.iloc(0)[0]\n"
   ]
  },
  {
   "cell_type": "code",
   "execution_count": 228,
   "metadata": {
    "collapsed": false
   },
   "outputs": [
    {
     "name": "stdout",
     "output_type": "stream",
     "text": [
      "t stat: 1.34370056781\n",
      "degrees of freedom: 28\n",
      "the p-value is: 0.189833792999\n"
     ]
    }
   ],
   "source": [
    "\n",
    "se2 = s.groupby('sex').var()/s.groupby('sex').count()\n",
    "\n",
    "t = (mean['duration'][1] - mean['duration'][0]) / np.sqrt(se2['duration'][0] + se2['duration'][1])\n",
    "df = s.groupby('sex').count().min()[0] - 1\n",
    "print('t stat: ' + str(t))\n",
    "print('degrees of freedom: ' + str(df))\n",
    "\n",
    "p = (1-stats.t.cdf(t, df))*2\n",
    "print('the p-value is: ' + str(p))"
   ]
  },
  {
   "cell_type": "markdown",
   "metadata": {},
   "source": [
    "We can't reject H0 (the 2 means are equal), => we don't observe any significant difference"
   ]
  },
  {
   "cell_type": "code",
   "execution_count": 229,
   "metadata": {
    "collapsed": false
   },
   "outputs": [
    {
     "data": {
      "text/plain": [
       "Ttest_indResult(statistic=1.3437005678090845, pvalue=0.18785555340784144)"
      ]
     },
     "execution_count": 229,
     "metadata": {},
     "output_type": "execute_result"
    }
   ],
   "source": [
    "M = s[s.sex == 'Monsieur']\n",
    "F = s[s.sex != 'Monsieur']\n",
    "\n",
    "stats.ttest_ind(M['duration'], F['duration'], equal_var=False)"
   ]
  },
  {
   "cell_type": "markdown",
   "metadata": {},
   "source": [
    "Here we get a small difference in p-value because the test is using the Welch-Satterthwaite degrees of freedom."
   ]
  },
  {
   "cell_type": "code",
   "execution_count": 56,
   "metadata": {
    "collapsed": false
   },
   "outputs": [
    {
     "data": {
      "text/html": [
       "<div>\n",
       "<table border=\"1\" class=\"dataframe\">\n",
       "  <thead>\n",
       "    <tr style=\"text-align: right;\">\n",
       "      <th></th>\n",
       "      <th>Civilité</th>\n",
       "      <th>Ecole Echange</th>\n",
       "      <th>Filière opt.</th>\n",
       "      <th>Mineur</th>\n",
       "      <th>No Sciper</th>\n",
       "      <th>Nom Prénom</th>\n",
       "      <th>Orientation Bachelor</th>\n",
       "      <th>Orientation Master</th>\n",
       "      <th>Spécialisation</th>\n",
       "      <th>Statut</th>\n",
       "      <th>Type Echange</th>\n",
       "      <th>level</th>\n",
       "      <th>period</th>\n",
       "      <th>section</th>\n",
       "      <th>semester</th>\n",
       "      <th>year</th>\n",
       "    </tr>\n",
       "  </thead>\n",
       "  <tbody>\n",
       "    <tr>\n",
       "      <th>160213</th>\n",
       "      <td>Monsieur</td>\n",
       "      <td></td>\n",
       "      <td></td>\n",
       "      <td></td>\n",
       "      <td>160213</td>\n",
       "      <td>Bécholey Alexandre</td>\n",
       "      <td></td>\n",
       "      <td></td>\n",
       "      <td></td>\n",
       "      <td>Présent</td>\n",
       "      <td></td>\n",
       "      <td>Bachelor</td>\n",
       "      <td>0</td>\n",
       "      <td>Informatique</td>\n",
       "      <td>5</td>\n",
       "      <td>2007-2008</td>\n",
       "    </tr>\n",
       "  </tbody>\n",
       "</table>\n",
       "</div>"
      ],
      "text/plain": [
       "        Civilité Ecole Echange Filière opt. Mineur No Sciper  \\\n",
       "160213  Monsieur                                      160213   \n",
       "\n",
       "                Nom Prénom Orientation Bachelor Orientation Master  \\\n",
       "160213  Bécholey Alexandre                                           \n",
       "\n",
       "       Spécialisation   Statut Type Echange     level  period       section  \\\n",
       "160213                 Présent               Bachelor       0  Informatique   \n",
       "\n",
       "       semester       year  \n",
       "160213        5  2007-2008  "
      ]
     },
     "execution_count": 56,
     "metadata": {},
     "output_type": "execute_result"
    }
   ],
   "source": [
    "dfB[dfB.index =='160213'].sort_values(by=['year', 'period'])"
   ]
  },
  {
   "cell_type": "code",
   "execution_count": 129,
   "metadata": {
    "collapsed": false
   },
   "outputs": [
    {
     "data": {
      "text/plain": [
       "213618    {'sex': Monsieur, 'duration': 4.0}\n",
       "217422    {'sex': Monsieur, 'duration': 5.0}\n",
       "dtype: object"
      ]
     },
     "execution_count": 129,
     "metadata": {},
     "output_type": "execute_result"
    }
   ],
   "source": [
    "\n",
    "\n",
    "\n",
    "s = dfB[(dfB.index == '217422') | (dfB.index == '213618')]\n",
    "\n",
    "a = s.groupby(s.index).apply(bachelorDuration)\n",
    "a"
   ]
  },
  {
   "cell_type": "code",
   "execution_count": 241,
   "metadata": {
    "collapsed": false
   },
   "outputs": [
    {
     "data": {
      "text/plain": [
       "0.18780024218122726"
      ]
     },
     "execution_count": 241,
     "metadata": {},
     "output_type": "execute_result"
    }
   ],
   "source": [
    "pop1 = M['duration']\n",
    "pop2 = F['duration']\n",
    "num1 = pop1.count()\n",
    "num2 = pop2.count()\n",
    "df = ((np.var(pop1)/num1 + np.var(pop2)/num2)**(2.0))/(   (np.var(pop1)/num1)**(2.0)/(num1-1) +  (np.var(pop2)/num2)**(2.0)/(num2-1) ) \n",
    "(1-stats.t.cdf(t, df))*2"
   ]
  },
  {
   "cell_type": "code",
   "execution_count": 265,
   "metadata": {
    "collapsed": false
   },
   "outputs": [
    {
     "data": {
      "text/html": [
       "<table class=\"simpletable\">\n",
       "<caption>OLS Regression Results</caption>\n",
       "<tr>\n",
       "  <th>Dep. Variable:</th>        <td>duration</td>     <th>  R-squared:         </th> <td>   0.003</td>\n",
       "</tr>\n",
       "<tr>\n",
       "  <th>Model:</th>                   <td>OLS</td>       <th>  Adj. R-squared:    </th> <td>   0.001</td>\n",
       "</tr>\n",
       "<tr>\n",
       "  <th>Method:</th>             <td>Least Squares</td>  <th>  F-statistic:       </th> <td>   1.749</td>\n",
       "</tr>\n",
       "<tr>\n",
       "  <th>Date:</th>             <td>Sat, 15 Oct 2016</td> <th>  Prob (F-statistic):</th>  <td> 0.187</td> \n",
       "</tr>\n",
       "<tr>\n",
       "  <th>Time:</th>                 <td>10:44:04</td>     <th>  Log-Likelihood:    </th> <td> -464.00</td>\n",
       "</tr>\n",
       "<tr>\n",
       "  <th>No. Observations:</th>      <td>   397</td>      <th>  AIC:               </th> <td>   932.0</td>\n",
       "</tr>\n",
       "<tr>\n",
       "  <th>Df Residuals:</th>          <td>   395</td>      <th>  BIC:               </th> <td>   940.0</td>\n",
       "</tr>\n",
       "<tr>\n",
       "  <th>Df Model:</th>              <td>     1</td>      <th>                     </th>     <td> </td>   \n",
       "</tr>\n",
       "<tr>\n",
       "  <th>Covariance Type:</th>         <td>HC3</td>       <th>                     </th>     <td> </td>   \n",
       "</tr>\n",
       "</table>\n",
       "<table class=\"simpletable\">\n",
       "<tr>\n",
       "    <td></td>       <th>coef</th>     <th>std err</th>      <th>z</th>      <th>P>|z|</th> <th>[95.0% Conf. Int.]</th> \n",
       "</tr>\n",
       "<tr>\n",
       "  <th>const</th> <td>    3.3966</td> <td>    0.127</td> <td>   26.698</td> <td> 0.000</td> <td>    3.147     3.646</td>\n",
       "</tr>\n",
       "<tr>\n",
       "  <th>sex</th>   <td>    0.1768</td> <td>    0.134</td> <td>    1.322</td> <td> 0.186</td> <td>   -0.085     0.439</td>\n",
       "</tr>\n",
       "</table>\n",
       "<table class=\"simpletable\">\n",
       "<tr>\n",
       "  <th>Omnibus:</th>       <td>92.931</td> <th>  Durbin-Watson:     </th> <td>   1.823</td>\n",
       "</tr>\n",
       "<tr>\n",
       "  <th>Prob(Omnibus):</th> <td> 0.000</td> <th>  Jarque-Bera (JB):  </th> <td> 159.029</td>\n",
       "</tr>\n",
       "<tr>\n",
       "  <th>Skew:</th>          <td> 1.385</td> <th>  Prob(JB):          </th> <td>2.93e-35</td>\n",
       "</tr>\n",
       "<tr>\n",
       "  <th>Kurtosis:</th>      <td> 4.392</td> <th>  Cond. No.          </th> <td>    7.27</td>\n",
       "</tr>\n",
       "</table>"
      ],
      "text/plain": [
       "<class 'statsmodels.iolib.summary.Summary'>\n",
       "\"\"\"\n",
       "                            OLS Regression Results                            \n",
       "==============================================================================\n",
       "Dep. Variable:               duration   R-squared:                       0.003\n",
       "Model:                            OLS   Adj. R-squared:                  0.001\n",
       "Method:                 Least Squares   F-statistic:                     1.749\n",
       "Date:                Sat, 15 Oct 2016   Prob (F-statistic):              0.187\n",
       "Time:                        10:44:04   Log-Likelihood:                -464.00\n",
       "No. Observations:                 397   AIC:                             932.0\n",
       "Df Residuals:                     395   BIC:                             940.0\n",
       "Df Model:                           1                                         \n",
       "Covariance Type:                  HC3                                         \n",
       "==============================================================================\n",
       "                 coef    std err          z      P>|z|      [95.0% Conf. Int.]\n",
       "------------------------------------------------------------------------------\n",
       "const          3.3966      0.127     26.698      0.000         3.147     3.646\n",
       "sex            0.1768      0.134      1.322      0.186        -0.085     0.439\n",
       "==============================================================================\n",
       "Omnibus:                       92.931   Durbin-Watson:                   1.823\n",
       "Prob(Omnibus):                  0.000   Jarque-Bera (JB):              159.029\n",
       "Skew:                           1.385   Prob(JB):                     2.93e-35\n",
       "Kurtosis:                       4.392   Cond. No.                         7.27\n",
       "==============================================================================\n",
       "\n",
       "Warnings:\n",
       "[1] Standard Errors are heteroscedasticity robust (HC3)\n",
       "\"\"\""
      ]
     },
     "execution_count": 265,
     "metadata": {},
     "output_type": "execute_result"
    }
   ],
   "source": [
    "s2 = s\n",
    "a = pd.Categorical.from_array(s2['sex'])\n",
    "s2['sex'] = a.codes\n",
    "\n",
    "sm.OLS(s2['duration'], sm.add_constant(s2['sex'])).fit(cov_type='HC3').summary()"
   ]
  },
  {
   "cell_type": "markdown",
   "metadata": {},
   "source": [
    "The coefficient of the sex dummy is non-significant <br>\n",
    "We see that the average is 3.4 years for females (the sex dummy is encoded to 0) and 3.57 for males"
   ]
  },
  {
   "cell_type": "code",
   "execution_count": 270,
   "metadata": {
    "collapsed": false
   },
   "outputs": [
    {
     "data": {
      "text/plain": [
       "array([1, 1, 1, 1, 1, 1, 1, 1, 1, 1, 1, 1, 1, 1, 1, 1, 1, 1, 1, 1, 0, 1, 1,\n",
       "       1, 1, 1, 1, 1, 1, 1, 1, 1, 0, 1, 0, 1, 1, 1, 1, 1, 1, 1, 1, 1, 1, 1,\n",
       "       1, 1, 1, 1, 1, 1, 0, 1, 1, 1, 1, 1, 1, 1, 1, 0, 1, 1, 1, 1, 0, 1, 1,\n",
       "       1, 1, 0, 1, 1, 1, 1, 1, 1, 1, 1, 1, 1, 1, 1, 1, 1, 1, 1, 1, 1, 1, 1,\n",
       "       0, 1, 1, 1, 1, 1, 1, 1, 1, 1, 1, 1, 1, 1, 1, 1, 1, 1, 0, 1, 1, 1, 1,\n",
       "       1, 1, 1, 1, 1, 1, 1, 1, 1, 1, 1, 1, 0, 1, 1, 1, 1, 1, 1, 1, 1, 1, 1,\n",
       "       1, 1, 1, 1, 1, 1, 1, 1, 1, 1, 1, 1, 1, 1, 1, 1, 1, 1, 1, 1, 1, 1, 1,\n",
       "       1, 1, 1, 1, 1, 1, 1, 1, 1, 1, 1, 1, 1, 1, 1, 1, 1, 1, 1, 1, 1, 0, 1,\n",
       "       1, 1, 1, 0, 1, 1, 1, 1, 1, 1, 0, 1, 1, 1, 1, 1, 1, 1, 1, 1, 1, 1, 1,\n",
       "       1, 1, 1, 1, 1, 1, 1, 1, 1, 1, 1, 0, 1, 1, 1, 1, 1, 1, 1, 1, 1, 1, 1,\n",
       "       1, 1, 1, 1, 1, 1, 0, 0, 1, 1, 1, 1, 1, 1, 0, 0, 1, 1, 1, 1, 1, 0, 1,\n",
       "       1, 1, 1, 1, 1, 1, 1, 1, 1, 0, 0, 1, 1, 1, 1, 1, 1, 1, 1, 1, 1, 1, 1,\n",
       "       1, 1, 1, 1, 1, 1, 1, 1, 1, 1, 1, 1, 1, 0, 1, 1, 1, 1, 1, 1, 1, 1, 1,\n",
       "       0, 1, 1, 1, 1, 1, 1, 1, 1, 1, 1, 1, 1, 1, 1, 1, 1, 1, 1, 1, 0, 1, 1,\n",
       "       1, 1, 1, 1, 1, 1, 1, 1, 1, 0, 0, 1, 1, 1, 1, 1, 1, 1, 1, 1, 1, 1, 1,\n",
       "       1, 0, 1, 1, 1, 1, 1, 1, 1, 0, 1, 1, 1, 1, 1, 1, 1, 1, 1, 1, 1, 1, 1,\n",
       "       1, 1, 1, 1, 1, 1, 1, 1, 1, 0, 1, 1, 1, 1, 1, 1, 1, 1, 1, 1, 1, 1, 1,\n",
       "       1, 1, 1, 1, 1, 1], dtype=int8)"
      ]
     },
     "execution_count": 270,
     "metadata": {},
     "output_type": "execute_result"
    }
   ],
   "source": []
  }
 ],
 "metadata": {
  "anaconda-cloud": {},
  "kernelspec": {
   "display_name": "Python [conda root]",
   "language": "python",
   "name": "conda-root-py"
  },
  "language_info": {
   "codemirror_mode": {
    "name": "ipython",
    "version": 3
   },
   "file_extension": ".py",
   "mimetype": "text/x-python",
   "name": "python",
   "nbconvert_exporter": "python",
   "pygments_lexer": "ipython3",
   "version": "3.5.2"
  }
 },
 "nbformat": 4,
 "nbformat_minor": 1
}
