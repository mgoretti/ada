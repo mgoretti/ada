{
 "cells": [
  {
   "cell_type": "code",
   "execution_count": 112,
   "metadata": {
    "collapsed": false
   },
   "outputs": [],
   "source": [
    "import folium\n",
    "import os\n",
    "import json\n",
    "import pandas as pd\n",
    "import random\n",
    "import numpy as np\n",
    "import math\n",
    "\n",
    "import urllib.request\n",
    "import requests"
   ]
  },
  {
   "cell_type": "markdown",
   "metadata": {},
   "source": [
    "## Import the data and basic wrangling"
   ]
  },
  {
   "cell_type": "code",
   "execution_count": 113,
   "metadata": {
    "collapsed": false
   },
   "outputs": [
    {
     "data": {
      "text/html": [
       "<div>\n",
       "<table border=\"1\" class=\"dataframe\">\n",
       "  <thead>\n",
       "    <tr style=\"text-align: right;\">\n",
       "      <th></th>\n",
       "      <th>University</th>\n",
       "      <th>Approved Amount</th>\n",
       "    </tr>\n",
       "  </thead>\n",
       "  <tbody>\n",
       "    <tr>\n",
       "      <th>22671</th>\n",
       "      <td>Université de Lausanne - LA</td>\n",
       "      <td>833333.00</td>\n",
       "    </tr>\n",
       "    <tr>\n",
       "      <th>23857</th>\n",
       "      <td>Universität Basel - BS</td>\n",
       "      <td>663000.00</td>\n",
       "    </tr>\n",
       "    <tr>\n",
       "      <th>24492</th>\n",
       "      <td>Universität Basel - BS</td>\n",
       "      <td>235000.00</td>\n",
       "    </tr>\n",
       "    <tr>\n",
       "      <th>24641</th>\n",
       "      <td>Université de Fribourg - FR</td>\n",
       "      <td>962090.00</td>\n",
       "    </tr>\n",
       "    <tr>\n",
       "      <th>24784</th>\n",
       "      <td>Universität Zürich - ZH</td>\n",
       "      <td>96625.00</td>\n",
       "    </tr>\n",
       "  </tbody>\n",
       "</table>\n",
       "</div>"
      ],
      "text/plain": [
       "                        University Approved Amount\n",
       "22671  Université de Lausanne - LA       833333.00\n",
       "23857       Universität Basel - BS       663000.00\n",
       "24492       Universität Basel - BS       235000.00\n",
       "24641  Université de Fribourg - FR       962090.00\n",
       "24784      Universität Zürich - ZH        96625.00"
      ]
     },
     "execution_count": 113,
     "metadata": {},
     "output_type": "execute_result"
    }
   ],
   "source": [
    "P3_data = os.path.join('data', 'P3_GrantExport_wo_keyword.csv')\n",
    "\n",
    "df = pd.read_csv(P3_data)\n",
    "df = df.dropna()\n",
    "df = df[['University','Approved Amount']]\n",
    "df.head()"
   ]
  },
  {
   "cell_type": "code",
   "execution_count": 114,
   "metadata": {
    "collapsed": false
   },
   "outputs": [
    {
     "data": {
      "text/html": [
       "<div>\n",
       "<table border=\"1\" class=\"dataframe\">\n",
       "  <thead>\n",
       "    <tr style=\"text-align: right;\">\n",
       "      <th></th>\n",
       "      <th>University</th>\n",
       "      <th>Approved Amount</th>\n",
       "    </tr>\n",
       "  </thead>\n",
       "  <tbody>\n",
       "    <tr>\n",
       "      <th>22671</th>\n",
       "      <td>Université de Lausanne - LA</td>\n",
       "      <td>833333.0</td>\n",
       "    </tr>\n",
       "    <tr>\n",
       "      <th>23857</th>\n",
       "      <td>Universität Basel - BS</td>\n",
       "      <td>663000.0</td>\n",
       "    </tr>\n",
       "    <tr>\n",
       "      <th>24492</th>\n",
       "      <td>Universität Basel - BS</td>\n",
       "      <td>235000.0</td>\n",
       "    </tr>\n",
       "    <tr>\n",
       "      <th>24641</th>\n",
       "      <td>Université de Fribourg - FR</td>\n",
       "      <td>962090.0</td>\n",
       "    </tr>\n",
       "    <tr>\n",
       "      <th>24784</th>\n",
       "      <td>Universität Zürich - ZH</td>\n",
       "      <td>96625.0</td>\n",
       "    </tr>\n",
       "  </tbody>\n",
       "</table>\n",
       "</div>"
      ],
      "text/plain": [
       "                        University  Approved Amount\n",
       "22671  Université de Lausanne - LA         833333.0\n",
       "23857       Universität Basel - BS         663000.0\n",
       "24492       Universität Basel - BS         235000.0\n",
       "24641  Université de Fribourg - FR         962090.0\n",
       "24784      Universität Zürich - ZH          96625.0"
      ]
     },
     "execution_count": 114,
     "metadata": {},
     "output_type": "execute_result"
    }
   ],
   "source": [
    "# cleaning\n",
    "df = df[df['Approved Amount'] != 'data not included in P3']\n",
    "\n",
    "# make the approved amount col a float\n",
    "# remove a false positive warning\n",
    "pd.options.mode.chained_assignment = None\n",
    "df['Approved Amount'] = df['Approved Amount'].map(lambda x: float(x))\n",
    "df = df[[university not in 'Nicht zuteilbar - NA' for university in df['University']]] # remove missing unis\n",
    "df.head()"
   ]
  },
  {
   "cell_type": "code",
   "execution_count": null,
   "metadata": {
    "collapsed": false
   },
   "outputs": [
    {
     "data": {
      "text/plain": [
       "74"
      ]
     },
     "execution_count": 115,
     "metadata": {},
     "output_type": "execute_result"
    }
   ],
   "source": [
    "# only 74 values, we could do the mapping manually\n",
    "len(list(df['University'].value_counts()))"
   ]
  },
  {
   "cell_type": "code",
   "execution_count": null,
   "metadata": {
    "collapsed": false
   },
   "outputs": [],
   "source": [
    "def run_query(uni_name):\n",
    "    return requests.get(url='http://api.geonames.org/search',  \n",
    "    params = {\n",
    "            'q': uni_name, \n",
    "            'country': 'CH',\n",
    "            'maxRows': '10',\n",
    "            'username': 'mgoretti',\n",
    "            'type': 'json'\n",
    "        })\n",
    "    \n",
    "def get_canton(uni_name):\n",
    "    res = json.loads(run_query(uni_name).text)\n",
    "#     print(res.text)\n",
    "    if (res['totalResultsCount'] > 0):\n",
    "        return res['geonames'][0]['adminCode1']\n",
    "    else:\n",
    "        return None\n",
    "  \n",
    "    \n",
    "def parse_name(uni_name):\n",
    "    names = uni_name.split(' - ')\n",
    "    if len(names) == 1:\n",
    "        return get_canton(names[0])\n",
    "    else:\n",
    "        # we prefer the result of the value before the -, as it's a more precise name\n",
    "        # but we can use the second if we don't get any result for the first\n",
    "        return get_canton(names[0]) or get_canton(names[1]) \n",
    "    \n",
    "        \n",
    "    \n",
    "def fetch_canton(entries):\n",
    "    uni_name = entries['University'].iloc[0]\n",
    "    entries['canton'] = parse_name(uni_name)\n",
    "    return entries\n",
    "\n",
    "\n",
    "# print(urllib.request.urlopen(build_query('EPFL')).read()) \n",
    "grants = df.groupby('University').apply(fetch_canton)\n",
    "\n"
   ]
  },
  {
   "cell_type": "code",
   "execution_count": null,
   "metadata": {
    "collapsed": false
   },
   "outputs": [],
   "source": [
    "# we still have 1476 entries that don't have a matching\n",
    "len(grants[grants['canton'].isnull()])"
   ]
  },
  {
   "cell_type": "code",
   "execution_count": null,
   "metadata": {
    "collapsed": false
   },
   "outputs": [],
   "source": [
    "# check if the matched cantons are correct\n",
    "grants[grants['canton'].notnull()].groupby('University').first()"
   ]
  },
  {
   "cell_type": "markdown",
   "metadata": {},
   "source": [
    "Add some manual mapping to complete the results based on google searches"
   ]
  },
  {
   "cell_type": "code",
   "execution_count": null,
   "metadata": {
    "collapsed": false
   },
   "outputs": [],
   "source": [
    "#Remove private sector entries as we are interested in grant given to universities\n",
    "grants = grants[grants.University != 'Firmen/Privatwirtschaft - FP']\n",
    "\n",
    "#Remove NPO entries for same reasons\n",
    "grants = grants[grants.University != 'NPO (Biblioth., Museen, Verwalt.) - NPO']\n",
    "\n",
    "#TODO check if this should be included imo it is international help so no?\n",
    "grants = grants[grants.University != 'Weitere Spitäler - ASPIT']\n",
    "\n",
    "def manualFetch(entries):\n",
    "    name = manualDict.get(entries['University'].iloc[0])\n",
    "    if (name):\n",
    "        entries['canton'] = name\n",
    "    return entries\n",
    "\n",
    "manualDict = {'Friedrich Miescher Institute - FMI':'BS',\n",
    "              'Inst. de Hautes Etudes Internat. et du Dév - IHEID' : 'GE',\n",
    "              'Hochschule Luzern - HSLU' : 'LU',\n",
    "              'Zürcher Fachhochschule (ohne PH) - ZFH' : 'ZH',\n",
    "              'Università della Svizzera italiana - USI' : 'TI',\n",
    "              'Pädagogische Hochschule Zürich - PHZFH' : 'ZH',\n",
    "              \"Centre de rech. sur l'environnement alpin - CREALP\": 'VS',\n",
    "              'Idiap Research Institute - IDIAP' : 'VS',\n",
    "              'Haute école pédagogique du canton de Vaud - HEPL': 'VD',\n",
    "              'Berner Fachhochschule - BFH' : 'BE',\n",
    "              'Pädagogische Hochschule Nordwestschweiz - PHFHNW' : 'AG',\n",
    "              'Ente Ospedaliero Cantonale - EOC' : 'TI',\n",
    "              'Swiss Institute of Bioinformatics - SIB' : 'VD',\n",
    "              'Pädagogische Hochschule Luzern - PHLU' : 'LU',\n",
    "             }\n",
    "\n",
    "grants = grants.groupby('University').apply(manualFetch)"
   ]
  },
  {
   "cell_type": "code",
   "execution_count": null,
   "metadata": {
    "collapsed": false
   },
   "outputs": [],
   "source": [
    "#Check that we reached the 95% threshold\n",
    "entryLeft = len(grants[grants['canton'].isnull()])\n",
    "entriesTotal = df.shape[0]\n",
    "print(\"{} / {} = {}%\".format(entryLeft, entriesTotal, (entryLeft / entries)*100))"
   ]
  },
  {
   "cell_type": "code",
   "execution_count": null,
   "metadata": {
    "collapsed": false
   },
   "outputs": [],
   "source": [
    "# compute the sum of the grant by canton\n",
    "\n",
    "# def sum_approved_amout(entries):\n",
    "#     print(entries['Approved Amount'].apply(lambda x: float(x)))\n",
    "# grants[].groupby('canton').apply(sum_approved_amout)\n",
    "grants_by_canton = grants[['Approved Amount', 'canton']].groupby('canton').sum()\n",
    "grants_by_canton\n"
   ]
  },
  {
   "cell_type": "code",
   "execution_count": null,
   "metadata": {
    "collapsed": false
   },
   "outputs": [],
   "source": [
    "# apply a transformation\n",
    "# log\n",
    "trans_grants_by_canton = grants_by_canton.copy()\n",
    "trans_grants_by_canton['Approved Amount'] = trans_grants_by_canton['Approved Amount'].apply(lambda x: math.log10(x))\n",
    "trans_grants_by_canton"
   ]
  },
  {
   "cell_type": "code",
   "execution_count": null,
   "metadata": {
    "collapsed": false,
    "scrolled": true
   },
   "outputs": [],
   "source": [
    "# get canton info\n",
    "swiss_cantons = os.path.join('data', 'ch-cantons.topojson.json')\n",
    "\n",
    "cantons = json.load(open(swiss_cantons))\n",
    "cantons_df = pd.DataFrame(pd.Series(x['id']) for x in cantons['objects']['cantons']['geometries'])\n",
    "\n",
    "cantons_df.columns = ['canton']\n",
    "cantons_df\n",
    "\n",
    "# join on canton \n",
    "# left_grants_by_canton = cantons_df.join(grants_by_canton, on = ['canton'], how = 'left')\n",
    "left_grants_by_canton = cantons_df.join(trans_grants_by_canton, on = ['canton'], how = 'left')\n",
    "left_grants_by_canton.fillna(0, inplace = True)\n",
    "left_grants_by_canton"
   ]
  },
  {
   "cell_type": "code",
   "execution_count": null,
   "metadata": {
    "collapsed": false
   },
   "outputs": [],
   "source": [
    "\n",
    "swiss_map = folium.Map([46.8, 8.5], tiles='cartodbpositron', zoom_start=8)\n",
    "\n",
    "\n",
    "swiss_map.choropleth(geo_path=swiss_cantons, data=left_grants_by_canton,\n",
    "               columns=['canton', 'Approved Amount'],\n",
    "               key_on='feature.id',\n",
    "#                threshold_scale=[0, 1e7, 5e7, 1e8, 5e8, ],\n",
    "               threshold_scale=[0, 5, 7, 8, 8.5, 9],\n",
    "               fill_color='YlOrRd',\n",
    "               topojson='objects.cantons',\n",
    "               legend_name='Unemployment Rate (%)' #doesn't work?\n",
    "                    ) \n",
    "swiss_map\n"
   ]
  }
 ],
 "metadata": {
  "anaconda-cloud": {},
  "kernelspec": {
   "display_name": "Python [Root]",
   "language": "python",
   "name": "Python [Root]"
  },
  "language_info": {
   "codemirror_mode": {
    "name": "ipython",
    "version": 3
   },
   "file_extension": ".py",
   "mimetype": "text/x-python",
   "name": "python",
   "nbconvert_exporter": "python",
   "pygments_lexer": "ipython3",
   "version": "3.5.2"
  }
 },
 "nbformat": 4,
 "nbformat_minor": 1
}
