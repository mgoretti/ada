{
 "cells": [
  {
   "cell_type": "code",
   "execution_count": 1,
   "metadata": {
    "collapsed": false
   },
   "outputs": [],
   "source": [
    "%matplotlib inline\n",
    "import pickle\n",
    "import datetime\n",
    "import math\n",
    "import pandas as pd\n",
    "import numpy as np\n",
    "import matplotlib.pyplot as plt\n",
    "import seaborn as sns\n",
    "from dateutil.relativedelta import relativedelta\n",
    "from functools import reduce\n",
    "from sklearn import ensemble\n",
    "from sklearn import metrics\n",
    "from sklearn import cross_validation\n",
    "from sklearn.cross_validation import train_test_split\n",
    "from sklearn.cluster import KMeans\n",
    "from sklearn.metrics import silhouette_score\n",
    "\n",
    "import itertools"
   ]
  },
  {
   "cell_type": "markdown",
   "metadata": {},
   "source": [
    "## Load the data"
   ]
  },
  {
   "cell_type": "code",
   "execution_count": 2,
   "metadata": {
    "collapsed": false
   },
   "outputs": [],
   "source": [
    "try:\n",
    "    df = pickle.load(df, open( \"data.pickle\", \"wb\" ))\n",
    "except:\n",
    "    df = pd.read_csv('CrowdstormingDataJuly1st.csv', parse_dates = ['birthday'])\n",
    "    pickle.dump(df, open( \"data.pickle\", \"wb\" ))"
   ]
  },
  {
   "cell_type": "markdown",
   "metadata": {},
   "source": [
    "## Structure of the data\n",
    "\n",
    "Every row corresponds to a (player, referee) pair.\n",
    "The table can be seen as a join of tree tables:\n",
    "* a table describing player attributes only,\n",
    "* table describing referee attributes only ,\n",
    "* table describing (player, referee) pair attributes only.\n",
    "\n",
    "In other words every attribute is a function of\n",
    "* `playerShort`\n",
    "* or `refNum`\n",
    "* or `(playerShort, refNum)` pair.\n",
    "\n",
    "We will check now that the data meets this assumption because further code relies on it."
   ]
  },
  {
   "cell_type": "code",
   "execution_count": 3,
   "metadata": {
    "collapsed": false
   },
   "outputs": [
    {
     "name": "stdout",
     "output_type": "stream",
     "text": [
      "Following attributes are a function of playerShort:\n",
      "player\n",
      "club\n",
      "leagueCountry\n",
      "birthday\n",
      "height\n",
      "weight\n",
      "position\n",
      "photoID\n",
      "rater1\n",
      "rater2\n",
      "\n",
      "Following attributes are a function of refNum:\n",
      "refCountry\n",
      "Alpha_3\n",
      "meanIAT\n",
      "nIAT\n",
      "seIAT\n",
      "meanExp\n",
      "nExp\n",
      "seExp\n",
      "\n",
      "Following attributes are a function of (playerShort, refNum):\n",
      "games\n",
      "victories\n",
      "ties\n",
      "defeats\n",
      "goals\n",
      "yellowCards\n",
      "yellowReds\n",
      "redCards\n",
      "\n"
     ]
    }
   ],
   "source": [
    "def functionAttrsFor(df, colname):\n",
    "    \"\"\"Find attributes whose value may be uniquely inferred from `colname` attribute value.\n",
    "       Returns a boolean Series object with colnames as indices.\n",
    "       If value for a given attribute is true then this attribute a function of `colname` attribute.\n",
    "    \"\"\"\n",
    "    return df.groupby(colname).agg(lambda col: col.nunique(dropna=False) == 1).apply(all)\n",
    "\n",
    "playerAttrs  = functionAttrsFor(df.drop('refNum', axis=1), 'playerShort')\n",
    "refereeAttrs = functionAttrsFor(df.drop('playerShort', axis=1), 'refNum')\n",
    "otherAttrs = ~(playerAttrs | refereeAttrs)\n",
    "\n",
    "attributes = list(zip(\n",
    "    ['playerShort', 'refNum', '(playerShort, refNum)'],\n",
    "    map(lambda x: list(x[x].index), [playerAttrs, refereeAttrs, otherAttrs])\n",
    "))\n",
    "\n",
    "for x in attributes:\n",
    "    template = \"Following attributes are a function of {}:\"\n",
    "    print(template.format(x[0]))\n",
    "    print('\\n'.join(x[1]))\n",
    "    print('')"
   ]
  },
  {
   "cell_type": "code",
   "execution_count": 4,
   "metadata": {
    "collapsed": false
   },
   "outputs": [
    {
     "data": {
      "text/plain": [
       "False"
      ]
     },
     "execution_count": 4,
     "metadata": {},
     "output_type": "execute_result"
    }
   ],
   "source": [
    "any(df.duplicated(['playerShort', 'refNum']))"
   ]
  },
  {
   "cell_type": "markdown",
   "metadata": {},
   "source": [
    "These functional dependencies agree with the data description.\n",
    "Moreover, `(playerShort, refNum)` pair is a primary key for this table."
   ]
  },
  {
   "cell_type": "markdown",
   "metadata": {},
   "source": [
    "# Cleaning"
   ]
  },
  {
   "cell_type": "markdown",
   "metadata": {},
   "source": [
    "We first drop players that don't have a skin rating (which is caused by the absence of their photo)."
   ]
  },
  {
   "cell_type": "code",
   "execution_count": 5,
   "metadata": {
    "collapsed": false,
    "scrolled": false
   },
   "outputs": [
    {
     "name": "stdout",
     "output_type": "stream",
     "text": [
      "We drop 15% of observations because they don't have a photo.\n",
      "All other observations have non-null skin ratings.\n"
     ]
    }
   ],
   "source": [
    "template = \"We drop {:.0f}% of observations because they don't have a photo.\"\n",
    "percentage = 100 * df.photoID.isnull().sum() / len(df)\n",
    "print(template.format(percentage))\n",
    "\n",
    "df = df[df.photoID.notnull()]\n",
    "\n",
    "if any(df['rater1'].isnull()) or any(df['rater2'].isnull()):\n",
    "    print(\"Some players with a photo lack a skin rating.\")\n",
    "else:\n",
    "    print(\"All other observations have non-null skin ratings.\")"
   ]
  },
  {
   "cell_type": "markdown",
   "metadata": {},
   "source": [
    "Let's check if there are more missing values in any column."
   ]
  },
  {
   "cell_type": "code",
   "execution_count": 6,
   "metadata": {
    "collapsed": false
   },
   "outputs": [
    {
     "data": {
      "text/plain": [
       "playerShort         0\n",
       "player              0\n",
       "club                0\n",
       "leagueCountry       0\n",
       "birthday            0\n",
       "height             46\n",
       "weight            753\n",
       "position         8461\n",
       "games               0\n",
       "victories           0\n",
       "ties                0\n",
       "defeats             0\n",
       "goals               0\n",
       "yellowCards         0\n",
       "yellowReds          0\n",
       "redCards            0\n",
       "photoID             0\n",
       "rater1              0\n",
       "rater2              0\n",
       "refNum              0\n",
       "refCountry          0\n",
       "Alpha_3             1\n",
       "meanIAT           153\n",
       "nIAT              153\n",
       "seIAT             153\n",
       "meanExp           153\n",
       "nExp              153\n",
       "seExp             153\n",
       "dtype: int64"
      ]
     },
     "execution_count": 6,
     "metadata": {},
     "output_type": "execute_result"
    }
   ],
   "source": [
    "df.apply(pd.isnull, axis=0).sum()"
   ]
  },
  {
   "cell_type": "markdown",
   "metadata": {},
   "source": [
    "We see that there are a few missing values.\n",
    "We can simply drop the players that don't have a height or weight \n",
    "and the referees without bias score (not many observations).\n",
    "Since there are a lot of players without a position we create a category for them."
   ]
  },
  {
   "cell_type": "code",
   "execution_count": 7,
   "metadata": {
    "collapsed": false
   },
   "outputs": [
    {
     "name": "stdout",
     "output_type": "stream",
     "text": [
      "All NA values have already been removed.\n"
     ]
    }
   ],
   "source": [
    "# Drop players without reported height.\n",
    "df = df[df['height'].notnull()]\n",
    "# Drop players without reported weight.\n",
    "df = df[df['weight'].notnull()]\n",
    "# Drop the referees without bias score data.\n",
    "df = df[df['meanIAT'].notnull()]\n",
    "\n",
    "# Create a noPosition category for players without a position.\n",
    "df.loc[df['position'].isnull(), 'position'] = 'noPosition'\n",
    "\n",
    "if df.notnull().values.all():\n",
    "    print(\"All NA values have already been removed.\")"
   ]
  },
  {
   "cell_type": "markdown",
   "metadata": {},
   "source": [
    "We also decided not to remove the referees who have less than 22 dyads as we aren't interested in the league only but racial bias in general"
   ]
  },
  {
   "cell_type": "markdown",
   "metadata": {},
   "source": [
    "# Exercise 1\n",
    "## Methodology\n",
    "For this supervised learning problem of predicting whether a player is black or white we use Random Forest. We will use the skin-color rating as a binary label for classification with skinColor {0, 0.25} -> white and {0.5, 0.75, 1} -> black.\n",
    "<br>\n",
    "We use dyads to generate features for each player so as to have a single entry per player representing his characteristics.\n",
    "<br>\n",
    "We then fit our player characteristics into Random Forest using K-fold Cross Validation.\n",
    "<br>\n",
    "We kept some steps used to find good features and we also implemented the bonus which was to find good hyperparameters for Random Forest and checked feature importance but as some of this work is incremental we didn't keep all the steps in the notebook.\n",
    "\n",
    "## Feature engineering\n",
    "We built dummy features from categorical features such as position and country. We also found good features by trial and error and stopping when the accuracy was good."
   ]
  },
  {
   "cell_type": "markdown",
   "metadata": {},
   "source": [
    "### Feature generation:"
   ]
  },
  {
   "cell_type": "code",
   "execution_count": 8,
   "metadata": {
    "collapsed": false
   },
   "outputs": [],
   "source": [
    "def genFeatures(player):\n",
    "    \"\"\"Return player's features representing his characteristics given his player-referee pairs.\"\"\"\n",
    "    sample = player.iloc(0)[0] # used to get values constant for the player\n",
    "    \n",
    "    age = relativedelta(datetime.datetime.now(), sample['birthday']).years\n",
    "    \n",
    "    bmi = sample['weight'] / pow(sample['height'] / 100, 2)\n",
    "    games = player['games'].sum()\n",
    "    winRate = player['victories'].sum() / games\n",
    "    tiesRate = player['ties'].sum() / games\n",
    "    loseRate = player['defeats'].sum() / games\n",
    "    yellowRedsRate = player['yellowReds'].sum() / games\n",
    "    yellowRate = player['yellowCards'].sum() / games\n",
    "    redRate = player['redCards'].sum() / games\n",
    "    IAT = (player['meanExp'] * player['games']).sum() / games\n",
    "    Exp = (player['meanIAT'] * player['games']).sum() / games\n",
    "    IAT2 = player['meanExp'].mean()\n",
    "    Exp2 = player['meanIAT'].mean()\n",
    "    seIAT = math.sqrt((player['nIAT'] * pow(player['seIAT'], 2)).sum()) / (player['nIAT'].sum())\n",
    "    seExp = math.sqrt((player['nExp'] * pow(player['seExp'],2)).sum()) / (player['nExp'].sum())\n",
    "\n",
    "    yellowRateRacistIAT = (player['yellowCards'] * (player['meanIAT'] > 0.35)).sum() / (1e-3+(player['games'] * (player['meanIAT'] > 0.35)).sum())\n",
    "    yellowRateNonRacistIAT = (player['yellowCards'] * (player['meanIAT'] < 0.35)).sum() / (1e-3+(player['games'] * (player['meanIAT'] < 0.35)).sum())\n",
    "    racismIAT = yellowRateRacistIAT / (1e-3+yellowRateNonRacistIAT)\n",
    "    yellowRateRacistExp = (player['yellowCards'] * (player['meanExp'] > 0.5)).sum() / (1e-3+(player['games'] * (player['meanExp'] > 0.5)).sum())\n",
    "    yellowRateNonRacistExp = (player['yellowCards'] * (player['meanExp'] < 0.5)).sum() / (1e-3+(player['games'] * (player['meanExp'] < 0.5)).sum())\n",
    "    racismExp = yellowRateRacistExp / (1e-3+yellowRateNonRacistExp)\n",
    "    \n",
    "    position = sample['position']\n",
    "    goalRatio = player['goals'].sum() / games\n",
    "    \n",
    "    return pd.Series({\n",
    "            'player': sample['player'],\n",
    "            'age': age,\n",
    "            'height': sample['height'],\n",
    "            'weight': sample['weight'], \n",
    "            'bmi': bmi,\n",
    "            'country': sample['leagueCountry'],\n",
    "            'games': games,\n",
    "            'winRate': winRate,\n",
    "            'tiesRate': tiesRate,\n",
    "            'loseRate': loseRate,\n",
    "            'yellowRate': yellowRate,\n",
    "            'yellowRedsRate': yellowRedsRate,\n",
    "            'yellowOverRed': redRate/(yellowRate+1e-3),\n",
    "            'redRate': redRate,\n",
    "            'skinColor': (sample['rater1'] + sample['rater2'])/2, # we average the ratings\n",
    "            'goalRatio': goalRatio,\n",
    "            'IAT': IAT,\n",
    "            'Exp': Exp,\n",
    "            'IAT2': IAT2,\n",
    "            'Exp2': Exp2,\n",
    "            'seIAT': seIAT,\n",
    "            'seExp': seExp,\n",
    "            'racismIAT': racismIAT,\n",
    "            'racismExp': racismExp,\n",
    "            'position': position,\n",
    "            })\n",
    "\n",
    "players_tmp = df.groupby('playerShort').apply(genFeatures)"
   ]
  },
  {
   "cell_type": "markdown",
   "metadata": {},
   "source": [
    "### Add dummy variables"
   ]
  },
  {
   "cell_type": "code",
   "execution_count": 12,
   "metadata": {
    "collapsed": false
   },
   "outputs": [
    {
     "data": {
      "text/plain": [
       "Index(['Exp', 'Exp2', 'IAT', 'IAT2', 'age', 'bmi', 'country', 'games',\n",
       "       'goalRatio', 'height', 'loseRate', 'player', 'position', 'racismExp',\n",
       "       'racismIAT', 'redRate', 'seExp', 'seIAT', 'skinColor', 'tiesRate',\n",
       "       'weight', 'winRate', 'yellowOverRed', 'yellowRate', 'yellowRedsRate',\n",
       "       'Attacking Midfielder', 'Center Back', 'Center Forward',\n",
       "       'Center Midfielder', 'Defensive Midfielder', 'Goalkeeper',\n",
       "       'Left Fullback', 'Left Midfielder', 'Left Winger', 'Right Fullback',\n",
       "       'Right Midfielder', 'Right Winger', 'noPosition', 'England', 'France',\n",
       "       'Germany', 'Spain'],\n",
       "      dtype='object')"
      ]
     },
     "execution_count": 12,
     "metadata": {},
     "output_type": "execute_result"
    }
   ],
   "source": [
    "position_dummy = pd.get_dummies(players_tmp['position'])\n",
    "position_dummy_keys = position_dummy.keys()\n",
    "country_dummy = pd.get_dummies(players_tmp['country'])\n",
    "country_dummy_keys = country_dummy.keys()\n",
    "\n",
    "players = pd.concat([players_tmp, position_dummy, country_dummy], axis = 1)\n",
    "players.keys()"
   ]
  },
  {
   "cell_type": "markdown",
   "metadata": {},
   "source": [
    "### Build the test and train sets:"
   ]
  },
  {
   "cell_type": "code",
   "execution_count": 13,
   "metadata": {
    "collapsed": false
   },
   "outputs": [],
   "source": [
    "# 2 classes, {0, 0.25}-> white (no racial bias) and {0.5, 0.75, 1} -> black (racial bias)\n",
    "y = players['skinColor'] >= 0.5\n",
    "features = list(itertools.chain([\n",
    "    'games',\n",
    "    'goalRatio',\n",
    "    'age',\n",
    "    'bmi',\n",
    "    'height',\n",
    "    'weight',\n",
    "    'yellowRate',\n",
    "    'yellowRedsRate',\n",
    "    'redRate',\n",
    "    'yellowOverRed', \n",
    "    'winRate',\n",
    "    'loseRate',\n",
    "    'tiesRate',\n",
    "    'IAT',\n",
    "    'Exp',\n",
    "    'IAT2',\n",
    "    'Exp2',\n",
    "    'seIAT',\n",
    "    'seExp',\n",
    "    'racismIAT',\n",
    "    'racismExp',\n",
    "], position_dummy_keys, country_dummy_keys))\n",
    "X = players[features]\n",
    "\n",
    "# Standardize features\n",
    "X_std = X.sub(X.mean(), axis=1).div(X.std(), axis=1)\n",
    "\n",
    "# Generate the train - test split.\n",
    "# We stratify in order to have the same black-white proportion in both the train and the test set.\n",
    "X_w, X_val, y_w, y_val = train_test_split(X_std, y, test_size=0.25, random_state=0, stratify = y)\n",
    "X_w = np.asanyarray(X_w)"
   ]
  },
  {
   "cell_type": "markdown",
   "metadata": {},
   "source": [
    "## Model Training:"
   ]
  },
  {
   "cell_type": "code",
   "execution_count": 41,
   "metadata": {
    "collapsed": false
   },
   "outputs": [],
   "source": [
    "def scorer(estimator, X_test, y_test, X_train, y_train):\n",
    "    \"\"\"Calculate (test accuracy, test F1, training accuracy, training F1).\n",
    "    F1 is calculated for black players.\n",
    "    \"\"\"\n",
    "    pred = estimator.predict(X_test)\n",
    "    A = metrics.accuracy_score(y_test, pred)\n",
    "    F1 = metrics.f1_score(y_test, pred)\n",
    "    \n",
    "    pred_train = estimator.predict(X_train)\n",
    "    A_train = metrics.accuracy_score(y_train, pred_train)\n",
    "    F1_Train = metrics.f1_score(y_train, pred_train)\n",
    "    return (A, F1, A_train, F1_Train)\n",
    "\n",
    "def CVstep(classifier, X, y, train_index, test_index, scorer):\n",
    "    X_train, X_test = X[train_index], X[test_index]\n",
    "    y_train, y_test = y[train_index], y[test_index]\n",
    "    estimator = classifier.fit(X_train, y_train)\n",
    "    return scorer(estimator, X_test, y_test, X_train, y_train)\n",
    "\n",
    "# Takes an iterable of classifiers and returns their cross-validation results for each split.\n",
    "# It uses the same splits for each model so they can be directly compared.\n",
    "def CV(classifiers, X, y, scorer, n_folds):\n",
    "    kf = cross_validation.StratifiedKFold(y, n_folds=n_folds)\n",
    "    return [[CVstep(classifier, X, y, train_index, test_index, scorer) for classifier in classifiers]\n",
    "            for train_index, test_index in kf]"
   ]
  },
  {
   "cell_type": "markdown",
   "metadata": {},
   "source": [
    "### Choose the function measuring the split quality: gini vs. entropy\n",
    "\n",
    "We will test 'gini' vs. 'entropy' criterion by setting other parameters to some intuitively sensible values and looking which performs better."
   ]
  },
  {
   "cell_type": "code",
   "execution_count": 43,
   "metadata": {
    "collapsed": false
   },
   "outputs": [],
   "source": [
    "# We use balanced class weights to not neglect black values and only predict white.\n",
    "otherParams = {\n",
    "    'n_estimators': 100,\n",
    "    'max_depth': None,\n",
    "    'min_samples_split': 20,\n",
    "    'class_weight':'balanced'\n",
    "}\n",
    "\n",
    "rf1 = ensemble.RandomForestClassifier(criterion = 'gini', **otherParams)\n",
    "rf2 = ensemble.RandomForestClassifier(criterion = 'entropy', **otherParams)\n",
    "\n",
    "# Cross-validation (average over 5 different 10-fold splits to smooth the result)\n",
    "scores = np.concatenate(np.asarray([CV([rf1, rf2], X_w, y_w, scorer, 10) for i in range(0, 5)]))"
   ]
  },
  {
   "cell_type": "code",
   "execution_count": 44,
   "metadata": {
    "collapsed": false
   },
   "outputs": [
    {
     "name": "stdout",
     "output_type": "stream",
     "text": [
      "0.774825438215\n",
      "0.777031725337\n",
      "0.488019285055\n",
      "0.479977858108\n"
     ]
    }
   ],
   "source": [
    "print(scores[:, 0, 0].mean()) # acc of first model\n",
    "print(scores[:, 1, 0].mean()) # acc of second model\n",
    "\n",
    "print(scores[:, 0, 1].mean()) # f1 of first model\n",
    "print(scores[:, 1, 1].mean()) # f1 of second model"
   ]
  },
  {
   "cell_type": "markdown",
   "metadata": {},
   "source": [
    "We don't see a real difference between the two so we stay with the default (gini) which is a little bit faster."
   ]
  },
  {
   "cell_type": "markdown",
   "metadata": {},
   "source": [
    "# Bonus:\n",
    "## Check how n_estimator affects the learning curve\n",
    "We plot train and cross-validation scores versus increasing values of n_estimators (grid_search in usual terms) with other parameters fixed."
   ]
  },
  {
   "cell_type": "code",
   "execution_count": 79,
   "metadata": {
    "collapsed": false
   },
   "outputs": [],
   "source": [
    "otherParams = {\n",
    "    'max_depth': None,\n",
    "    'min_samples_split': 20,\n",
    "    'criterion': 'gini',\n",
    "    'class_weight':'balanced'\n",
    "}\n",
    "rfs = [ensemble.RandomForestClassifier(n_estimators=n * 5, **otherParams) for n in range(1, 20)]\n",
    "# Cross-validation (average over 3 different 20-fold splits to smooth the result)\n",
    "scores_n_estimator = np.concatenate(np.asarray([CV(rfs, X_w, y_w, scorer, 20) for i in range(0, 3)]))"
   ]
  },
  {
   "cell_type": "code",
   "execution_count": 80,
   "metadata": {
    "collapsed": false
   },
   "outputs": [
    {
     "data": {
      "text/plain": [
       "<matplotlib.text.Text at 0x118648278>"
      ]
     },
     "execution_count": 80,
     "metadata": {},
     "output_type": "execute_result"
    },
    {
     "data": {
      "image/png": "[encoded data removed]",
      "text/plain": [
       "<matplotlib.figure.Figure at 0x118697fd0>"
      ]
     },
     "metadata": {},
     "output_type": "display_data"
    }
   ],
   "source": [
    "num_model = scores_n_estimator.shape[1]\n",
    "\n",
    "cv_acc, test_F1, train_acc, train_F1 = scores_n_estimator.mean(axis=0).T\n",
    "\n",
    "# Build Graph\n",
    "axisRange = np.linspace(5, (num_model) * 5, num_model)\n",
    "\n",
    "fig, ax = plt.subplots()\n",
    "\n",
    "ax.plot(axisRange, train_acc, label='Training Accuracy')\n",
    "ax.plot(axisRange, cv_acc, label='CV Accuracy')\n",
    "ax.plot(axisRange, train_F1, label='Training F1')\n",
    "ax.plot(axisRange, test_F1, label='CV F1')\n",
    "\n",
    "# Now add the legend with some customizations.\n",
    "legend = ax.legend(loc='center right', shadow=True)\n",
    "\n",
    "plt.xlabel('n_estimators')\n",
    "plt.ylabel('score')"
   ]
  },
  {
   "cell_type": "markdown",
   "metadata": {},
   "source": [
    " We will use n_estimator = 20 as it seems big enough and increasing it will mostly only increase computing time.\n",
    " It's worth noting that generally more trees is always better but it doesn't change much past some treshold."
   ]
  },
  {
   "cell_type": "markdown",
   "metadata": {},
   "source": [
    "## Check how min_samples_leaf affects the learning curve:\n",
    "We plot train and cross-validation scores versus increasing values of min_samples_leaf."
   ]
  },
  {
   "cell_type": "code",
   "execution_count": 102,
   "metadata": {
    "collapsed": false
   },
   "outputs": [],
   "source": [
    "otherParams = {\n",
    "    'n_estimators': 20,\n",
    "    'max_depth': 10,\n",
    "    'criterion': 'gini',\n",
    "    'class_weight':'balanced'\n",
    "}\n",
    "rfs = [ensemble.RandomForestClassifier(min_samples_leaf=n * 6, **otherParams) for n in range(1, 50)]\n",
    "# Cross-validation (average over 3 different 20-fold splits to smooth the result)\n",
    "scores_min_samples_leaf = np.concatenate(np.asarray([CV(rfs, X_w, y_w, scorer, 20) for i in range(0, 3)]))"
   ]
  },
  {
   "cell_type": "code",
   "execution_count": 103,
   "metadata": {
    "collapsed": false
   },
   "outputs": [
    {
     "data": {
      "text/plain": [
       "<matplotlib.text.Text at 0x11a2a9748>"
      ]
     },
     "execution_count": 103,
     "metadata": {},
     "output_type": "execute_result"
    },
    {
     "data": {
      "image/png": "[encoded data removed]",
      "text/plain": [
       "<matplotlib.figure.Figure at 0x11a1964a8>"
      ]
     },
     "metadata": {},
     "output_type": "display_data"
    }
   ],
   "source": [
    "num_model = scores_min_samples_leaf.shape[1]\n",
    "\n",
    "cv_acc, test_F1, train_acc, train_F1 = scores_min_samples_leaf.mean(axis=0).T\n",
    "    \n",
    "# Build Graph\n",
    "axisRange = np.linspace(6, (num_model)*6, num_model)\n",
    "\n",
    "fig, ax = plt.subplots()\n",
    "\n",
    "ax.plot(axisRange, train_acc, label='Training Accuracy')\n",
    "ax.plot(axisRange, cv_acc, label='CV Accuracy')\n",
    "ax.plot(axisRange, train_F1, label='Training F1')\n",
    "ax.plot(axisRange, test_F1, label='CV F1')\n",
    "\n",
    "# Now add the legend with some customizations.\n",
    "legend = ax.legend(loc='lower right', shadow=True)\n",
    "\n",
    "plt.xlabel('min_samples_leaf')\n",
    "plt.ylabel('score')"
   ]
  },
  {
   "cell_type": "markdown",
   "metadata": {},
   "source": [
    "We can see that as we increase the min_samples_leaf variable we underfit since Training scores go down. Obviously when min_sample_split is very small the model is overfitting. There is a tradeoff here. For example 100 the Test scores are close to Training scores. "
   ]
  },
  {
   "cell_type": "markdown",
   "metadata": {},
   "source": [
    "# Feature importance discussion\n",
    "\n",
    "We'll plot our current feature weights in a bar graph and try to find a set of features that overfits as asked.\n",
    "Given the above plots we use n_estimators = 20 and min_samples_leaf = 1."
   ]
  },
  {
   "cell_type": "code",
   "execution_count": 154,
   "metadata": {
    "collapsed": false
   },
   "outputs": [
    {
     "data": {
      "text/plain": [
       "<Container object of 38 artists>"
      ]
     },
     "execution_count": 154,
     "metadata": {},
     "output_type": "execute_result"
    },
    {
     "data": {
      "image/png": "[encoded data removed]",
      "text/plain": [
       "<matplotlib.figure.Figure at 0x1205b1fd0>"
      ]
     },
     "metadata": {},
     "output_type": "display_data"
    }
   ],
   "source": [
    "rf = ensemble.RandomForestClassifier(\n",
    "    n_estimators = 20,\n",
    "    max_depth = None,\n",
    "    min_samples_leaf = 1,\n",
    "    criterion = 'gini',\n",
    "    class_weight = 'balanced')\n",
    "rf.fit(X_w, y_w)\n",
    "\n",
    "y = rf.feature_importances_\n",
    "N = len(y)\n",
    "x = range(N)\n",
    "width = 1 / 1.5\n",
    "plt.bar(x, y, width, color=\"blue\")"
   ]
  },
  {
   "cell_type": "code",
   "execution_count": 160,
   "metadata": {
    "collapsed": false
   },
   "outputs": [
    {
     "name": "stdout",
     "output_type": "stream",
     "text": [
      "['IAT', 'Exp', 'IAT2']\n"
     ]
    }
   ],
   "source": [
    "print(list(X.columns[y > 0.06]))"
   ]
  },
  {
   "cell_type": "markdown",
   "metadata": {},
   "source": [
    "The most important features are 'IAT', 'Exp','IAT2'. It seems the racism bias score for the referees present on a player's match is important to figure out the skin color. <br>\n",
    "Also, with this graph we could argue on what feature to remove.\n",
    "Dummies were not very useful."
   ]
  },
  {
   "cell_type": "markdown",
   "metadata": {},
   "source": [
    "# Final model"
   ]
  },
  {
   "cell_type": "code",
   "execution_count": 163,
   "metadata": {
    "collapsed": false
   },
   "outputs": [
    {
     "name": "stdout",
     "output_type": "stream",
     "text": [
      "Acc = 0.789743589744\n",
      "F1 = 0.378787878788\n",
      "             precision    recall  f1-score   support\n",
      "\n",
      "      False       0.80      0.96      0.87       296\n",
      "       True       0.66      0.27      0.38        94\n",
      "\n",
      "avg / total       0.77      0.79      0.75       390\n",
      "\n"
     ]
    }
   ],
   "source": [
    "rf = ensemble.RandomForestClassifier(\n",
    "    n_estimators = 20,\n",
    "    max_depth = None,\n",
    "    min_samples_leaf = 1,\n",
    "    criterion = 'gini',\n",
    "    class_weight = 'balanced')\n",
    "\n",
    "rf.fit(X_w, y_w)\n",
    "pred = rf.predict(X_val)\n",
    "A = metrics.accuracy_score(y_val, pred)\n",
    "print('Acc = ' + str(A))\n",
    "F1 = metrics.f1_score(y_val, pred)\n",
    "print('F1 = ' + str(F1))\n",
    "\n",
    "print(metrics.classification_report(y_val, pred))"
   ]
  },
  {
   "cell_type": "markdown",
   "metadata": {
    "collapsed": true
   },
   "source": [
    "The accuracy is > 78%. We get a precision of 80% for whites and 66% for blacks. Given that we can predict both quite well, we see that there is some racial difference. Our generated features regarding racism did have some impact which allows us to imply that there is some racial bias.\n",
    "\n",
    "We could try many things to improve it but it's already pretty good for this HW.\n",
    "\n",
    "We ran this without the dummies featureas well and we had a slightly better precision, most likely because position dummies are useless as seen in the feature importance graph and adding an useless feature makes some trees less good because each tree at any level chooses only from sqrt(#feature) here."
   ]
  },
  {
   "cell_type": "markdown",
   "metadata": {},
   "source": [
    "# Exercise 2\n",
    "\n",
    "## Methodology\n",
    "To find clusters we use the K-means method. Since in this exercise we have to find clusters that have a good silouhette score and also separate the clusters well between black and white people, we don't use the skin-color to do the clustering but we use it after running K-means to verify how good our clusters is.\n",
    "In the end we calculate several metrics and the goal is to find a good compromise between silouhette and F1 score.\n",
    "To achieve this, we do automatic feature ablation. We check which feature, if removed from all the features gives us a new better F1 or silhouette score, and then we repeat this process. We can then check what subset of all our features gives the best tradeoff between well seperating white and black player, and having a nice silhouette.\n",
    "\n",
    "## Difficulties and discussion\n",
    "Why we need to use F1...\n",
    "What could be improved...\n",
    "Implication of finding a good cluster on racial bias...\n"
   ]
  },
  {
   "cell_type": "code",
   "execution_count": 21,
   "metadata": {
    "collapsed": false
   },
   "outputs": [],
   "source": [
    "def get_clustering_scores (X, y, verbose = False):\n",
    "#     kmeans = KMeans(n_clusters=2, random_state=42, max_iter=500, init='k-means++').fit(X)\n",
    "    kmeans = KMeans(n_clusters=2, random_state=42, max_iter=100, init='k-means++').fit(X)\n",
    "    predictions = kmeans.predict(X)\n",
    "    \n",
    "    # check if we should invert the class labels (if the inverted setting gives a higher accuracy):\n",
    "#     if metrics.accuracy_score(y, predictions) < metrics.accuracy_score(y, 1 - predictions):\n",
    "    if len(predictions[predictions == 1]) > len(predictions[predictions == 0]):\n",
    "        # invert labels because we are predicting \n",
    "        predictions = 1 - predictions\n",
    "    A =  metrics.accuracy_score(y, predictions)\n",
    "    F1 =  metrics.f1_score(y, predictions)\n",
    "    s_score = silhouette_score(X, predictions)\n",
    "\n",
    "    if verbose:\n",
    "        print(pd.Series(predictions).value_counts())\n",
    "        print(y.value_counts())\n",
    "\n",
    "        print(metrics.f1_score(y, predictions))\n",
    "        print(metrics.classification_report(y, predictions))\n",
    "\n",
    "    return (s_score, A, F1)\n",
    "    \n",
    "def generate_X_std (players, features):\n",
    "    X = players[features]\n",
    "    return X.sub(X.mean(), axis=1).div(X.std(), axis = 1)\n"
   ]
  },
  {
   "cell_type": "code",
   "execution_count": 22,
   "metadata": {
    "collapsed": true
   },
   "outputs": [],
   "source": [
    "y = players['skinColor'] >= 0.5 # 2 classes, {0, 0.25}-> white (no racial bias) and {0.5, 0.75, 1} -> black (racial bias)\n",
    "all_features = list(itertools.chain([\n",
    "    'games',\n",
    "    'goalRatio',\n",
    "    'age',\n",
    "    'bmi',\n",
    "    'height',\n",
    "    'weight',\n",
    "    'yellowRate',\n",
    "    'yellowRedsRate',\n",
    "    'redRate',\n",
    "    'yellowOverRed', \n",
    "    'winRate',\n",
    "    'loseRate',\n",
    "    'tiesRate',\n",
    "    'IAT',\n",
    "    'Exp',\n",
    "    'IAT2',\n",
    "    'Exp2',\n",
    "    'seIAT',\n",
    "    'seExp',\n",
    "    'racismIAT',\n",
    "    'racismExp',\n",
    "], position_dummy_keys, country_dummy_keys))"
   ]
  },
  {
   "cell_type": "code",
   "execution_count": 23,
   "metadata": {
    "collapsed": false
   },
   "outputs": [
    {
     "name": "stdout",
     "output_type": "stream",
     "text": [
      "0    1114\n",
      "1     450\n",
      "dtype: int64\n",
      "False    1186\n",
      "True      378\n",
      "Name: skinColor, dtype: int64\n",
      "0.159420289855\n",
      "             precision    recall  f1-score   support\n",
      "\n",
      "      False       0.72      0.68      0.70      1186\n",
      "       True       0.15      0.17      0.16       378\n",
      "\n",
      "avg / total       0.58      0.55      0.57      1564\n",
      "\n"
     ]
    },
    {
     "data": {
      "text/plain": [
       "(0.1509102216737217, 0.55498721227621484, 0.15942028985507248)"
      ]
     },
     "execution_count": 23,
     "metadata": {},
     "output_type": "execute_result"
    }
   ],
   "source": [
    "X_std = generate_X_std(players, all_features)\n",
    "get_clustering_scores(X_std, y, verbose = True)"
   ]
  },
  {
   "cell_type": "markdown",
   "metadata": {},
   "source": [
    "## Test"
   ]
  },
  {
   "cell_type": "code",
   "execution_count": 24,
   "metadata": {
    "collapsed": false
   },
   "outputs": [
    {
     "name": "stdout",
     "output_type": "stream",
     "text": [
      "0    1286\n",
      "1     278\n",
      "dtype: int64\n",
      "False    1186\n",
      "True      378\n",
      "Name: skinColor, dtype: int64\n",
      "0.393292682927\n",
      "             precision    recall  f1-score   support\n",
      "\n",
      "      False       0.81      0.87      0.84      1186\n",
      "       True       0.46      0.34      0.39       378\n",
      "\n",
      "avg / total       0.72      0.75      0.73      1564\n",
      "\n"
     ]
    },
    {
     "data": {
      "text/plain": [
       "(1.0, 0.74552429667519182, 0.39329268292682928)"
      ]
     },
     "execution_count": 24,
     "metadata": {},
     "output_type": "execute_result"
    }
   ],
   "source": [
    "y = players['skinColor'] >= 0.5 # 2 classes, {0, 0.25}-> white (no racial bias) and {0.5, 0.75, 1} -> black (racial bias)\n",
    "\n",
    "features = [\n",
    "#     'winRate',\n",
    "#     'IAT2'\n",
    "    'France',\n",
    "]\n",
    "get_clustering_scores(generate_X_std(players, features), y, verbose = True)"
   ]
  },
  {
   "cell_type": "code",
   "execution_count": 25,
   "metadata": {
    "collapsed": false
   },
   "outputs": [
    {
     "name": "stdout",
     "output_type": "stream",
     "text": [
      "0    1287\n",
      "1     277\n",
      "dtype: int64\n",
      "False    1186\n",
      "True      378\n",
      "Name: skinColor, dtype: int64\n",
      "0.393893129771\n",
      "             precision    recall  f1-score   support\n",
      "\n",
      "      False       0.81      0.88      0.84      1186\n",
      "       True       0.47      0.34      0.39       378\n",
      "\n",
      "avg / total       0.72      0.75      0.73      1564\n",
      "\n"
     ]
    },
    {
     "data": {
      "text/plain": [
       "(0.82386086107230228, 0.74616368286445012, 0.39389312977099239)"
      ]
     },
     "execution_count": 25,
     "metadata": {},
     "output_type": "execute_result"
    }
   ],
   "source": [
    "features = [\n",
    "#     'winRate',\n",
    "#     'IAT2'\n",
    "    'France',\n",
    "    'racismIAT'\n",
    "]\n",
    "get_clustering_scores(generate_X_std(players, features), y, verbose = True)"
   ]
  },
  {
   "cell_type": "code",
   "execution_count": 26,
   "metadata": {
    "collapsed": false,
    "scrolled": true
   },
   "outputs": [
    {
     "name": "stdout",
     "output_type": "stream",
     "text": [
      "all features: silhouette score 0.150910221674 accuracy: 0.554987212276 F1: 0.159420289855\n",
      "remove: racismIAT, new silhouette score: 0.137312372535 accuracy: 0.550511508951 F1: 0.173913043478\n",
      "remove: Defensive Midfielder, new silhouette score: 0.142298329126 accuracy: 0.551150895141 F1: 0.176056338028\n",
      "remove: age, new silhouette score: 0.147129465775 accuracy: 0.551150895141 F1: 0.176056338028\n",
      "remove: Left Midfielder, new silhouette score: 0.150732995256 accuracy: 0.550511508951 F1: 0.177777777778\n",
      "remove: tiesRate, new silhouette score: 0.153620242961 accuracy: 0.552429667519 F1: 0.178403755869\n",
      "remove: bmi, new silhouette score: 0.159738328278 accuracy: 0.552429667519 F1: 0.178403755869\n",
      "remove: yellowOverRed, new silhouette score: 0.160987600699 accuracy: 0.552429667519 F1: 0.178403755869\n",
      "remove: Attacking Midfielder, new silhouette score: 0.167234969829 accuracy: 0.552429667519 F1: 0.178403755869\n",
      "remove: Center Forward, new silhouette score: 0.173977864128 accuracy: 0.552429667519 F1: 0.178403755869\n",
      "remove: Goalkeeper, new silhouette score: 0.18127304468 accuracy: 0.552429667519 F1: 0.178403755869\n",
      "remove: Left Fullback, new silhouette score: 0.188516691319 accuracy: 0.552429667519 F1: 0.178403755869\n",
      "remove: Left Winger, new silhouette score: 0.195147840934 accuracy: 0.552429667519 F1: 0.178403755869\n",
      "remove: Right Fullback, new silhouette score: 0.203648042759 accuracy: 0.552429667519 F1: 0.178403755869\n",
      "remove: Right Midfielder, new silhouette score: 0.211713068629 accuracy: 0.552429667519 F1: 0.178403755869\n",
      "remove: redRate, new silhouette score: 0.218329350824 accuracy: 0.55179028133 F1: 0.178194607268\n",
      "remove: loseRate, new silhouette score: 0.225885247708 accuracy: 0.55179028133 F1: 0.178194607268\n",
      "remove: Center Back, new silhouette score: 0.238270341001 accuracy: 0.55179028133 F1: 0.178194607268\n",
      "remove: racismExp, new silhouette score: 0.233441241133 accuracy: 0.547314578005 F1: 0.174825174825\n",
      "remove: England, new silhouette score: 0.240603412128 accuracy: 0.54283887468 F1: 0.179104477612\n",
      "remove: height, new silhouette score: 0.252711219085 accuracy: 0.540281329923 F1: 0.18015963512\n",
      "remove: winRate, new silhouette score: 0.266239369902 accuracy: 0.540281329923 F1: 0.18015963512\n",
      "remove: Right Winger, new silhouette score: 0.278292046028 accuracy: 0.540281329923 F1: 0.18015963512\n",
      "remove: noPosition, new silhouette score: 0.296516931218 accuracy: 0.540281329923 F1: 0.18015963512\n",
      "remove: weight, new silhouette score: 0.322361525543 accuracy: 0.540920716113 F1: 0.178489702517\n",
      "remove: yellowRedsRate, new silhouette score: 0.342138724535 accuracy: 0.54347826087 F1: 0.18119266055\n",
      "remove: goalRatio, new silhouette score: 0.373761019345 accuracy: 0.544117647059 F1: 0.181400688863\n",
      "remove: seExp, new silhouette score: 0.377911473743 accuracy: 0.54283887468 F1: 0.179104477612\n",
      "remove: France, new silhouette score: 0.410186468479 accuracy: 0.541560102302 F1: 0.180571428571\n",
      "remove: Exp2, new silhouette score: 0.401635614117 accuracy: 0.547953964194 F1: 0.184544405998\n",
      "remove: seIAT, new silhouette score: 0.410885378701 accuracy: 0.547314578005 F1: 0.184331797235\n",
      "remove: yellowRate, new silhouette score: 0.456636793118 accuracy: 0.546035805627 F1: 0.18202764977\n",
      "remove: Spain, new silhouette score: 0.408149940696 accuracy: 0.531329923274 F1: 0.19184123484\n",
      "remove: Exp, new silhouette score: 0.355062698246 accuracy: 0.521739130435 F1: 0.199143468951\n",
      "remove: Center Midfielder, new silhouette score: 0.379378583182 accuracy: 0.524296675192 F1: 0.2\n",
      "remove: games, new silhouette score: 0.496246563674 accuracy: 0.518542199488 F1: 0.196371398079\n",
      "remove: Germany, new silhouette score: 0.652021078441 accuracy: 0.516624040921 F1: 0.190578158458\n",
      "remove: IAT, new silhouette score: 0.608299872725 accuracy: 0.463554987212 F1: 0.21515434986\n"
     ]
    }
   ],
   "source": [
    "# feature ablation\n",
    "features = list(all_features)\n",
    "\n",
    "scores = get_clustering_scores(generate_X_std(players, all_features), y)\n",
    "print('all features: silhouette score ' + str(scores[0]) + ' accuracy: ' + str(scores[1]) + ' F1: ' + str(scores[2]))\n",
    "\n",
    "# for feature in features:\n",
    "#     features_s = list(features)\n",
    "#     features_s.remove(feature)\n",
    "#     scores = get_clustering_scores(generate_X_std(players, features_s), y)\n",
    "#     print(feature + str(scores[0]))\n",
    "\n",
    "def score_wo_feature(features, feature):\n",
    "    features_s = list(features)\n",
    "    features_s.remove(feature)\n",
    "    scores = get_clustering_scores(generate_X_std(players, features_s), y)\n",
    "    return(feature, scores)\n",
    "\n",
    "for i in range(0, len(all_features)-1):\n",
    "    res = [score_wo_feature(features, feature) for feature in features]\n",
    "    feat_to_remove = max(res, key = lambda x: x[1][2]) # max wrt f1 score\n",
    "    print('remove: ' + feat_to_remove[0] + ', new silhouette score: ' + str(feat_to_remove[1][0]) + ' accuracy: ' + str(feat_to_remove[1][1]) + ' F1: ' + str(feat_to_remove[1][2]))\n",
    "    features.remove(feat_to_remove[0])"
   ]
  },
  {
   "cell_type": "markdown",
   "metadata": {},
   "source": [
    "## Feature addition"
   ]
  },
  {
   "cell_type": "code",
   "execution_count": 27,
   "metadata": {
    "collapsed": false
   },
   "outputs": [
    {
     "name": "stdout",
     "output_type": "stream",
     "text": [
      "add: France, new silhouette score: 1.0 accuracy: 0.745524296675 F1: 0.393292682927\n",
      "add: racismIAT, new silhouette score: 0.823860861072 accuracy: 0.746163682864 F1: 0.393893129771\n",
      "add: goalRatio, new silhouette score: 0.552761746743 accuracy: 0.746163682864 F1: 0.393893129771\n",
      "add: age, new silhouette score: 0.403589850906 accuracy: 0.746163682864 F1: 0.393893129771\n",
      "add: bmi, new silhouette score: 0.32583544157 accuracy: 0.746163682864 F1: 0.393893129771\n",
      "add: height, new silhouette score: 0.269312876165 accuracy: 0.746163682864 F1: 0.393893129771\n",
      "add: yellowRate, new silhouette score: 0.232874800812 accuracy: 0.746163682864 F1: 0.393893129771\n",
      "add: tiesRate, new silhouette score: 0.234610709614 accuracy: 0.745524296675 F1: 0.395136778116\n",
      "add: winRate, new silhouette score: 0.214994666046 accuracy: 0.745524296675 F1: 0.395136778116\n",
      "add: seIAT, new silhouette score: 0.230697925472 accuracy: 0.746803069054 F1: 0.4\n",
      "add: redRate, new silhouette score: 0.227892832083 accuracy: 0.746803069054 F1: 0.4\n",
      "add: seExp, new silhouette score: 0.237581925562 accuracy: 0.746803069054 F1: 0.401812688822\n",
      "add: yellowRedsRate, new silhouette score: 0.221568366827 accuracy: 0.746803069054 F1: 0.401812688822\n",
      "add: yellowOverRed, new silhouette score: 0.228416914895 accuracy: 0.746803069054 F1: 0.401812688822\n",
      "add: Center Midfielder, new silhouette score: 0.210339971767 accuracy: 0.746803069054 F1: 0.401812688822\n",
      "add: Left Midfielder, new silhouette score: 0.198173508588 accuracy: 0.746803069054 F1: 0.401812688822\n",
      "add: Right Midfielder, new silhouette score: 0.190608047652 accuracy: 0.746803069054 F1: 0.401812688822\n",
      "add: Right Fullback, new silhouette score: 0.181293555412 accuracy: 0.746803069054 F1: 0.401812688822\n",
      "add: England, new silhouette score: 0.122942153122 accuracy: 0.617007672634 F1: 0.35935828877\n",
      "add: loseRate, new silhouette score: 0.0901099156052 accuracy: 0.547314578005 F1: 0.361010830325\n",
      "add: Germany, new silhouette score: 0.120508116652 accuracy: 0.631074168798 F1: 0.372143634385\n",
      "add: noPosition, new silhouette score: 0.117902109325 accuracy: 0.632352941176 F1: 0.377031419285\n",
      "add: Center Back, new silhouette score: 0.110906421852 accuracy: 0.633631713555 F1: 0.377850162866\n",
      "add: Defensive Midfielder, new silhouette score: 0.107015111352 accuracy: 0.634271099744 F1: 0.378260869565\n",
      "add: Left Winger, new silhouette score: 0.101076706988 accuracy: 0.632352941176 F1: 0.378378378378\n",
      "add: Right Winger, new silhouette score: 0.0978340692849 accuracy: 0.633631713555 F1: 0.379198266522\n",
      "add: Attacking Midfielder, new silhouette score: 0.0911044359613 accuracy: 0.627877237852 F1: 0.375536480687\n",
      "add: Left Fullback, new silhouette score: 0.0874224556066 accuracy: 0.627877237852 F1: 0.372844827586\n",
      "add: Goalkeeper, new silhouette score: 0.081787469094 accuracy: 0.62084398977 F1: 0.368477103301\n",
      "add: games, new silhouette score: 0.0804798057745 accuracy: 0.622762148338 F1: 0.3669527897\n",
      "add: Center Forward, new silhouette score: 0.0745246915797 accuracy: 0.613810741688 F1: 0.365546218487\n",
      "add: Exp, new silhouette score: 0.0748562442306 accuracy: 0.592710997442 F1: 0.354609929078\n",
      "add: weight, new silhouette score: 0.0607574576841 accuracy: 0.499360613811 F1: 0.282309807516\n",
      "add: Spain, new silhouette score: 0.105475805013 accuracy: 0.562659846547 F1: 0.17191283293\n",
      "add: IAT, new silhouette score: 0.118946198931 accuracy: 0.561381074169 F1: 0.173493975904\n",
      "add: Exp2, new silhouette score: 0.132148260495 accuracy: 0.556905370844 F1: 0.17005988024\n",
      "add: IAT2, new silhouette score: 0.137878598319 accuracy: 0.549232736573 F1: 0.171562867215\n"
     ]
    }
   ],
   "source": [
    "features = list()\n",
    "unused_features = list(all_features)\n",
    "\n",
    "\n",
    "def score_w_feature(features, feature):\n",
    "    features_s = list(features)\n",
    "    features_s.append(feature)\n",
    "    scores = get_clustering_scores(generate_X_std(players, features_s), y)\n",
    "    return(feature, scores)\n",
    "\n",
    "for i in range(0, len(all_features)-1):\n",
    "    res = [score_w_feature(features, feature) for feature in unused_features]\n",
    "    feat_to_add = max(res, key = lambda x: x[1][2]) # max wrt f1 score\n",
    "    print('add: ' + feat_to_add[0] + ', new silhouette score: ' + str(feat_to_add[1][0]) + ' accuracy: ' + str(feat_to_add[1][1]) + ' F1: ' + str(feat_to_add[1][2]))\n",
    "    features.append(feat_to_add[0])\n",
    "    unused_features.remove(feat_to_add[0])"
   ]
  }
 ],
 "metadata": {
  "anaconda-cloud": {},
  "kernelspec": {
   "display_name": "Python [conda root]",
   "language": "python",
   "name": "conda-root-py"
  },
  "language_info": {
   "codemirror_mode": {
    "name": "ipython",
    "version": 3
   },
   "file_extension": ".py",
   "mimetype": "text/x-python",
   "name": "python",
   "nbconvert_exporter": "python",
   "pygments_lexer": "ipython3",
   "version": "3.5.2"
  }
 },
 "nbformat": 4,
 "nbformat_minor": 1
}
